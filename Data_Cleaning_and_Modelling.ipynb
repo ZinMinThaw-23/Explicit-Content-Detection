{
  "cells": [
    {
      "cell_type": "markdown",
      "metadata": {
        "id": "view-in-github",
        "colab_type": "text"
      },
      "source": [
        "<a href=\"https://colab.research.google.com/github/ZinMinThaw-23/Explicit-Content-Detection/blob/main/Data_Cleaning_and_Modelling.ipynb\" target=\"_parent\"><img src=\"https://colab.research.google.com/assets/colab-badge.svg\" alt=\"Open In Colab\"/></a>"
      ]
    },
    {
      "cell_type": "markdown",
      "metadata": {
        "id": "ZN2Dy7_IeTJC"
      },
      "source": [
        "Clean the dataset by removing no match rows"
      ]
    },
    {
      "cell_type": "code",
      "execution_count": null,
      "metadata": {
        "colab": {
          "base_uri": "https://localhost:8080/"
        },
        "id": "ZwliOWe1g5nS",
        "outputId": "5bb54121-bfdb-41b7-9b61-19ee4b2753ab"
      },
      "outputs": [
        {
          "output_type": "stream",
          "name": "stdout",
          "text": [
            "Drive already mounted at /content/drive; to attempt to forcibly remount, call drive.mount(\"/content/drive\", force_remount=True).\n"
          ]
        }
      ],
      "source": [
        "from google.colab import drive\n",
        "drive.mount('/content/drive')"
      ]
    },
    {
      "cell_type": "code",
      "execution_count": null,
      "metadata": {
        "id": "altyk7XghLr5"
      },
      "outputs": [],
      "source": [
        "import pandas as pd\n",
        "import re"
      ]
    },
    {
      "cell_type": "code",
      "execution_count": null,
      "metadata": {
        "colab": {
          "base_uri": "https://localhost:8080/",
          "height": 641
        },
        "id": "u8IeQ464boBT",
        "outputId": "32bcb6b9-9847-4ba9-c18e-62867a321bda"
      },
      "outputs": [
        {
          "output_type": "execute_result",
          "data": {
            "text/plain": [
              "      artist                                             song  \\\n",
              "1       ABBA                                 Andante, Andante   \n",
              "2       ABBA                                   As Good As New   \n",
              "4       ABBA                                 Bang-A-Boomerang   \n",
              "7       ABBA                                       Chiquitita   \n",
              "11      ABBA                                    Dancing Queen   \n",
              "...      ...                                              ...   \n",
              "57593    Zao  To Think Of You Is To Treasure An Absent Memory   \n",
              "57605  Zebra                                 As I Said Before   \n",
              "57608  Zebra                          Hard Living Without You   \n",
              "57609  Zebra                               When You Get There   \n",
              "57612  Zebra                    You're Only Losing Your Heart   \n",
              "\n",
              "                                                    text explicit_label  \n",
              "1      Take it easy with me, please   Touch me gently...          False  \n",
              "2      I'll never know why I had to go   Why I had to...          False  \n",
              "4      Making somebody happy is a question of give an...          False  \n",
              "7      Chiquitita, tell me what's wrong   You're ench...          False  \n",
              "11     You can dance, you can jive, having the time o...          False  \n",
              "...                                                  ...            ...  \n",
              "57593  When you shut your eyes and fell asleep   Dark...          False  \n",
              "57605  And I said before   I don't want no more   And...          False  \n",
              "57608  Nothing to say no place to hide   I can't find...          False  \n",
              "57609  You wake up in the morning   And you're not fe...          False  \n",
              "57612  Don't' do anything I wouldn't do   Pass me any...          False  \n",
              "\n",
              "[24676 rows x 4 columns]"
            ],
            "text/html": [
              "\n",
              "  <div id=\"df-517116d3-e0c8-4487-a6d1-330e69b37a44\">\n",
              "    <div class=\"colab-df-container\">\n",
              "      <div>\n",
              "<style scoped>\n",
              "    .dataframe tbody tr th:only-of-type {\n",
              "        vertical-align: middle;\n",
              "    }\n",
              "\n",
              "    .dataframe tbody tr th {\n",
              "        vertical-align: top;\n",
              "    }\n",
              "\n",
              "    .dataframe thead th {\n",
              "        text-align: right;\n",
              "    }\n",
              "</style>\n",
              "<table border=\"1\" class=\"dataframe\">\n",
              "  <thead>\n",
              "    <tr style=\"text-align: right;\">\n",
              "      <th></th>\n",
              "      <th>artist</th>\n",
              "      <th>song</th>\n",
              "      <th>text</th>\n",
              "      <th>explicit_label</th>\n",
              "    </tr>\n",
              "  </thead>\n",
              "  <tbody>\n",
              "    <tr>\n",
              "      <th>1</th>\n",
              "      <td>ABBA</td>\n",
              "      <td>Andante, Andante</td>\n",
              "      <td>Take it easy with me, please   Touch me gently...</td>\n",
              "      <td>False</td>\n",
              "    </tr>\n",
              "    <tr>\n",
              "      <th>2</th>\n",
              "      <td>ABBA</td>\n",
              "      <td>As Good As New</td>\n",
              "      <td>I'll never know why I had to go   Why I had to...</td>\n",
              "      <td>False</td>\n",
              "    </tr>\n",
              "    <tr>\n",
              "      <th>4</th>\n",
              "      <td>ABBA</td>\n",
              "      <td>Bang-A-Boomerang</td>\n",
              "      <td>Making somebody happy is a question of give an...</td>\n",
              "      <td>False</td>\n",
              "    </tr>\n",
              "    <tr>\n",
              "      <th>7</th>\n",
              "      <td>ABBA</td>\n",
              "      <td>Chiquitita</td>\n",
              "      <td>Chiquitita, tell me what's wrong   You're ench...</td>\n",
              "      <td>False</td>\n",
              "    </tr>\n",
              "    <tr>\n",
              "      <th>11</th>\n",
              "      <td>ABBA</td>\n",
              "      <td>Dancing Queen</td>\n",
              "      <td>You can dance, you can jive, having the time o...</td>\n",
              "      <td>False</td>\n",
              "    </tr>\n",
              "    <tr>\n",
              "      <th>...</th>\n",
              "      <td>...</td>\n",
              "      <td>...</td>\n",
              "      <td>...</td>\n",
              "      <td>...</td>\n",
              "    </tr>\n",
              "    <tr>\n",
              "      <th>57593</th>\n",
              "      <td>Zao</td>\n",
              "      <td>To Think Of You Is To Treasure An Absent Memory</td>\n",
              "      <td>When you shut your eyes and fell asleep   Dark...</td>\n",
              "      <td>False</td>\n",
              "    </tr>\n",
              "    <tr>\n",
              "      <th>57605</th>\n",
              "      <td>Zebra</td>\n",
              "      <td>As I Said Before</td>\n",
              "      <td>And I said before   I don't want no more   And...</td>\n",
              "      <td>False</td>\n",
              "    </tr>\n",
              "    <tr>\n",
              "      <th>57608</th>\n",
              "      <td>Zebra</td>\n",
              "      <td>Hard Living Without You</td>\n",
              "      <td>Nothing to say no place to hide   I can't find...</td>\n",
              "      <td>False</td>\n",
              "    </tr>\n",
              "    <tr>\n",
              "      <th>57609</th>\n",
              "      <td>Zebra</td>\n",
              "      <td>When You Get There</td>\n",
              "      <td>You wake up in the morning   And you're not fe...</td>\n",
              "      <td>False</td>\n",
              "    </tr>\n",
              "    <tr>\n",
              "      <th>57612</th>\n",
              "      <td>Zebra</td>\n",
              "      <td>You're Only Losing Your Heart</td>\n",
              "      <td>Don't' do anything I wouldn't do   Pass me any...</td>\n",
              "      <td>False</td>\n",
              "    </tr>\n",
              "  </tbody>\n",
              "</table>\n",
              "<p>24676 rows × 4 columns</p>\n",
              "</div>\n",
              "      <button class=\"colab-df-convert\" onclick=\"convertToInteractive('df-517116d3-e0c8-4487-a6d1-330e69b37a44')\"\n",
              "              title=\"Convert this dataframe to an interactive table.\"\n",
              "              style=\"display:none;\">\n",
              "        \n",
              "  <svg xmlns=\"http://www.w3.org/2000/svg\" height=\"24px\"viewBox=\"0 0 24 24\"\n",
              "       width=\"24px\">\n",
              "    <path d=\"M0 0h24v24H0V0z\" fill=\"none\"/>\n",
              "    <path d=\"M18.56 5.44l.94 2.06.94-2.06 2.06-.94-2.06-.94-.94-2.06-.94 2.06-2.06.94zm-11 1L8.5 8.5l.94-2.06 2.06-.94-2.06-.94L8.5 2.5l-.94 2.06-2.06.94zm10 10l.94 2.06.94-2.06 2.06-.94-2.06-.94-.94-2.06-.94 2.06-2.06.94z\"/><path d=\"M17.41 7.96l-1.37-1.37c-.4-.4-.92-.59-1.43-.59-.52 0-1.04.2-1.43.59L10.3 9.45l-7.72 7.72c-.78.78-.78 2.05 0 2.83L4 21.41c.39.39.9.59 1.41.59.51 0 1.02-.2 1.41-.59l7.78-7.78 2.81-2.81c.8-.78.8-2.07 0-2.86zM5.41 20L4 18.59l7.72-7.72 1.47 1.35L5.41 20z\"/>\n",
              "  </svg>\n",
              "      </button>\n",
              "      \n",
              "  <style>\n",
              "    .colab-df-container {\n",
              "      display:flex;\n",
              "      flex-wrap:wrap;\n",
              "      gap: 12px;\n",
              "    }\n",
              "\n",
              "    .colab-df-convert {\n",
              "      background-color: #E8F0FE;\n",
              "      border: none;\n",
              "      border-radius: 50%;\n",
              "      cursor: pointer;\n",
              "      display: none;\n",
              "      fill: #1967D2;\n",
              "      height: 32px;\n",
              "      padding: 0 0 0 0;\n",
              "      width: 32px;\n",
              "    }\n",
              "\n",
              "    .colab-df-convert:hover {\n",
              "      background-color: #E2EBFA;\n",
              "      box-shadow: 0px 1px 2px rgba(60, 64, 67, 0.3), 0px 1px 3px 1px rgba(60, 64, 67, 0.15);\n",
              "      fill: #174EA6;\n",
              "    }\n",
              "\n",
              "    [theme=dark] .colab-df-convert {\n",
              "      background-color: #3B4455;\n",
              "      fill: #D2E3FC;\n",
              "    }\n",
              "\n",
              "    [theme=dark] .colab-df-convert:hover {\n",
              "      background-color: #434B5C;\n",
              "      box-shadow: 0px 1px 3px 1px rgba(0, 0, 0, 0.15);\n",
              "      filter: drop-shadow(0px 1px 2px rgba(0, 0, 0, 0.3));\n",
              "      fill: #FFFFFF;\n",
              "    }\n",
              "  </style>\n",
              "\n",
              "      <script>\n",
              "        const buttonEl =\n",
              "          document.querySelector('#df-517116d3-e0c8-4487-a6d1-330e69b37a44 button.colab-df-convert');\n",
              "        buttonEl.style.display =\n",
              "          google.colab.kernel.accessAllowed ? 'block' : 'none';\n",
              "\n",
              "        async function convertToInteractive(key) {\n",
              "          const element = document.querySelector('#df-517116d3-e0c8-4487-a6d1-330e69b37a44');\n",
              "          const dataTable =\n",
              "            await google.colab.kernel.invokeFunction('convertToInteractive',\n",
              "                                                     [key], {});\n",
              "          if (!dataTable) return;\n",
              "\n",
              "          const docLinkHtml = 'Like what you see? Visit the ' +\n",
              "            '<a target=\"_blank\" href=https://colab.research.google.com/notebooks/data_table.ipynb>data table notebook</a>'\n",
              "            + ' to learn more about interactive tables.';\n",
              "          element.innerHTML = '';\n",
              "          dataTable['output_type'] = 'display_data';\n",
              "          await google.colab.output.renderOutput(dataTable, element);\n",
              "          const docLink = document.createElement('div');\n",
              "          docLink.innerHTML = docLinkHtml;\n",
              "          element.appendChild(docLink);\n",
              "        }\n",
              "      </script>\n",
              "    </div>\n",
              "  </div>\n",
              "  "
            ]
          },
          "metadata": {},
          "execution_count": 6
        }
      ],
      "source": [
        "song_data = pd.read_csv(\"/content/drive/MyDrive/Explicit Content Analysis/Labeled_Data1.csv\")\n",
        "song_data = song_data[['artist','song','text','explicit_label']]\n",
        "song_data = song_data.loc[song_data['explicit_label'] != 'no match']\n",
        "#remove'\\n' from the lyrics\n",
        "re_drop = re.compile(r'\\n')        \n",
        "song_data[['text']] = song_data[['text']].applymap(lambda x:re_drop.sub(' ',x))\n",
        "\n",
        "song_data"
      ]
    },
    {
      "cell_type": "markdown",
      "metadata": {
        "id": "Kj3XwvdFpXiP"
      },
      "source": [
        "Split into training dataset and test dataset"
      ]
    },
    {
      "cell_type": "code",
      "execution_count": null,
      "metadata": {
        "colab": {
          "base_uri": "https://localhost:8080/",
          "height": 641
        },
        "id": "vzjQeTeMj2En",
        "outputId": "41936bb1-87ef-47cf-897d-e040edc9a6ba"
      },
      "outputs": [
        {
          "output_type": "execute_result",
          "data": {
            "text/plain": [
              "              artist                        song  \\\n",
              "128     Adam Sandler                  Mr. Bake-O   \n",
              "129     Adam Sandler      Steve Polychronopolous   \n",
              "909    Avril Lavigne  Here's To Never Growing Up   \n",
              "929    Avril Lavigne                 Rock N Roll   \n",
              "2089      Bruno Mars                    Treasure   \n",
              "...              ...                         ...   \n",
              "57544           Z-Ro              Gripping Grain   \n",
              "57545           Z-Ro         Guerilla Till I Die   \n",
              "57550           Z-Ro            Lord Tell Me Why   \n",
              "57560           Z-Ro          Talkin' Down On Me   \n",
              "57561           Z-Ro             That'z Who I Am   \n",
              "\n",
              "                                                    text explicit_label  \n",
              "128             I'm sitting in my chair watching the ...           True  \n",
              "129    I'm a big fuckin' dick   I'm a pain in your as...           True  \n",
              "909    Singing Radiohead at the top of our lungs   Wi...           True  \n",
              "929    Let them know that we're still rock n roll   I...           True  \n",
              "2089   Give me all, give me all, give me all your att...           True  \n",
              "...                                                  ...            ...  \n",
              "57544  What, is this bitch fucking with Z-Ro   Mother...           True  \n",
              "57545  [Hook - 2x]   Guerilla till I die, mama don't ...           True  \n",
              "57550  (Chorus - 2x)   Lord tell me why   Ooh child, ...           True  \n",
              "57560  [Z-Ro]   Since I been out by myself, I keep th...           True  \n",
              "57561  [Z-Ro]   Houston Texas is my city, Ridgemont 4...           True  \n",
              "\n",
              "[1356 rows x 4 columns]"
            ],
            "text/html": [
              "\n",
              "  <div id=\"df-4da0ab5a-8ca1-4e72-8c56-1ffd3cdc67e9\">\n",
              "    <div class=\"colab-df-container\">\n",
              "      <div>\n",
              "<style scoped>\n",
              "    .dataframe tbody tr th:only-of-type {\n",
              "        vertical-align: middle;\n",
              "    }\n",
              "\n",
              "    .dataframe tbody tr th {\n",
              "        vertical-align: top;\n",
              "    }\n",
              "\n",
              "    .dataframe thead th {\n",
              "        text-align: right;\n",
              "    }\n",
              "</style>\n",
              "<table border=\"1\" class=\"dataframe\">\n",
              "  <thead>\n",
              "    <tr style=\"text-align: right;\">\n",
              "      <th></th>\n",
              "      <th>artist</th>\n",
              "      <th>song</th>\n",
              "      <th>text</th>\n",
              "      <th>explicit_label</th>\n",
              "    </tr>\n",
              "  </thead>\n",
              "  <tbody>\n",
              "    <tr>\n",
              "      <th>128</th>\n",
              "      <td>Adam Sandler</td>\n",
              "      <td>Mr. Bake-O</td>\n",
              "      <td>I'm sitting in my chair watching the ...</td>\n",
              "      <td>True</td>\n",
              "    </tr>\n",
              "    <tr>\n",
              "      <th>129</th>\n",
              "      <td>Adam Sandler</td>\n",
              "      <td>Steve Polychronopolous</td>\n",
              "      <td>I'm a big fuckin' dick   I'm a pain in your as...</td>\n",
              "      <td>True</td>\n",
              "    </tr>\n",
              "    <tr>\n",
              "      <th>909</th>\n",
              "      <td>Avril Lavigne</td>\n",
              "      <td>Here's To Never Growing Up</td>\n",
              "      <td>Singing Radiohead at the top of our lungs   Wi...</td>\n",
              "      <td>True</td>\n",
              "    </tr>\n",
              "    <tr>\n",
              "      <th>929</th>\n",
              "      <td>Avril Lavigne</td>\n",
              "      <td>Rock N Roll</td>\n",
              "      <td>Let them know that we're still rock n roll   I...</td>\n",
              "      <td>True</td>\n",
              "    </tr>\n",
              "    <tr>\n",
              "      <th>2089</th>\n",
              "      <td>Bruno Mars</td>\n",
              "      <td>Treasure</td>\n",
              "      <td>Give me all, give me all, give me all your att...</td>\n",
              "      <td>True</td>\n",
              "    </tr>\n",
              "    <tr>\n",
              "      <th>...</th>\n",
              "      <td>...</td>\n",
              "      <td>...</td>\n",
              "      <td>...</td>\n",
              "      <td>...</td>\n",
              "    </tr>\n",
              "    <tr>\n",
              "      <th>57544</th>\n",
              "      <td>Z-Ro</td>\n",
              "      <td>Gripping Grain</td>\n",
              "      <td>What, is this bitch fucking with Z-Ro   Mother...</td>\n",
              "      <td>True</td>\n",
              "    </tr>\n",
              "    <tr>\n",
              "      <th>57545</th>\n",
              "      <td>Z-Ro</td>\n",
              "      <td>Guerilla Till I Die</td>\n",
              "      <td>[Hook - 2x]   Guerilla till I die, mama don't ...</td>\n",
              "      <td>True</td>\n",
              "    </tr>\n",
              "    <tr>\n",
              "      <th>57550</th>\n",
              "      <td>Z-Ro</td>\n",
              "      <td>Lord Tell Me Why</td>\n",
              "      <td>(Chorus - 2x)   Lord tell me why   Ooh child, ...</td>\n",
              "      <td>True</td>\n",
              "    </tr>\n",
              "    <tr>\n",
              "      <th>57560</th>\n",
              "      <td>Z-Ro</td>\n",
              "      <td>Talkin' Down On Me</td>\n",
              "      <td>[Z-Ro]   Since I been out by myself, I keep th...</td>\n",
              "      <td>True</td>\n",
              "    </tr>\n",
              "    <tr>\n",
              "      <th>57561</th>\n",
              "      <td>Z-Ro</td>\n",
              "      <td>That'z Who I Am</td>\n",
              "      <td>[Z-Ro]   Houston Texas is my city, Ridgemont 4...</td>\n",
              "      <td>True</td>\n",
              "    </tr>\n",
              "  </tbody>\n",
              "</table>\n",
              "<p>1356 rows × 4 columns</p>\n",
              "</div>\n",
              "      <button class=\"colab-df-convert\" onclick=\"convertToInteractive('df-4da0ab5a-8ca1-4e72-8c56-1ffd3cdc67e9')\"\n",
              "              title=\"Convert this dataframe to an interactive table.\"\n",
              "              style=\"display:none;\">\n",
              "        \n",
              "  <svg xmlns=\"http://www.w3.org/2000/svg\" height=\"24px\"viewBox=\"0 0 24 24\"\n",
              "       width=\"24px\">\n",
              "    <path d=\"M0 0h24v24H0V0z\" fill=\"none\"/>\n",
              "    <path d=\"M18.56 5.44l.94 2.06.94-2.06 2.06-.94-2.06-.94-.94-2.06-.94 2.06-2.06.94zm-11 1L8.5 8.5l.94-2.06 2.06-.94-2.06-.94L8.5 2.5l-.94 2.06-2.06.94zm10 10l.94 2.06.94-2.06 2.06-.94-2.06-.94-.94-2.06-.94 2.06-2.06.94z\"/><path d=\"M17.41 7.96l-1.37-1.37c-.4-.4-.92-.59-1.43-.59-.52 0-1.04.2-1.43.59L10.3 9.45l-7.72 7.72c-.78.78-.78 2.05 0 2.83L4 21.41c.39.39.9.59 1.41.59.51 0 1.02-.2 1.41-.59l7.78-7.78 2.81-2.81c.8-.78.8-2.07 0-2.86zM5.41 20L4 18.59l7.72-7.72 1.47 1.35L5.41 20z\"/>\n",
              "  </svg>\n",
              "      </button>\n",
              "      \n",
              "  <style>\n",
              "    .colab-df-container {\n",
              "      display:flex;\n",
              "      flex-wrap:wrap;\n",
              "      gap: 12px;\n",
              "    }\n",
              "\n",
              "    .colab-df-convert {\n",
              "      background-color: #E8F0FE;\n",
              "      border: none;\n",
              "      border-radius: 50%;\n",
              "      cursor: pointer;\n",
              "      display: none;\n",
              "      fill: #1967D2;\n",
              "      height: 32px;\n",
              "      padding: 0 0 0 0;\n",
              "      width: 32px;\n",
              "    }\n",
              "\n",
              "    .colab-df-convert:hover {\n",
              "      background-color: #E2EBFA;\n",
              "      box-shadow: 0px 1px 2px rgba(60, 64, 67, 0.3), 0px 1px 3px 1px rgba(60, 64, 67, 0.15);\n",
              "      fill: #174EA6;\n",
              "    }\n",
              "\n",
              "    [theme=dark] .colab-df-convert {\n",
              "      background-color: #3B4455;\n",
              "      fill: #D2E3FC;\n",
              "    }\n",
              "\n",
              "    [theme=dark] .colab-df-convert:hover {\n",
              "      background-color: #434B5C;\n",
              "      box-shadow: 0px 1px 3px 1px rgba(0, 0, 0, 0.15);\n",
              "      filter: drop-shadow(0px 1px 2px rgba(0, 0, 0, 0.3));\n",
              "      fill: #FFFFFF;\n",
              "    }\n",
              "  </style>\n",
              "\n",
              "      <script>\n",
              "        const buttonEl =\n",
              "          document.querySelector('#df-4da0ab5a-8ca1-4e72-8c56-1ffd3cdc67e9 button.colab-df-convert');\n",
              "        buttonEl.style.display =\n",
              "          google.colab.kernel.accessAllowed ? 'block' : 'none';\n",
              "\n",
              "        async function convertToInteractive(key) {\n",
              "          const element = document.querySelector('#df-4da0ab5a-8ca1-4e72-8c56-1ffd3cdc67e9');\n",
              "          const dataTable =\n",
              "            await google.colab.kernel.invokeFunction('convertToInteractive',\n",
              "                                                     [key], {});\n",
              "          if (!dataTable) return;\n",
              "\n",
              "          const docLinkHtml = 'Like what you see? Visit the ' +\n",
              "            '<a target=\"_blank\" href=https://colab.research.google.com/notebooks/data_table.ipynb>data table notebook</a>'\n",
              "            + ' to learn more about interactive tables.';\n",
              "          element.innerHTML = '';\n",
              "          dataTable['output_type'] = 'display_data';\n",
              "          await google.colab.output.renderOutput(dataTable, element);\n",
              "          const docLink = document.createElement('div');\n",
              "          docLink.innerHTML = docLinkHtml;\n",
              "          element.appendChild(docLink);\n",
              "        }\n",
              "      </script>\n",
              "    </div>\n",
              "  </div>\n",
              "  "
            ]
          },
          "metadata": {},
          "execution_count": 7
        }
      ],
      "source": [
        "#extract all the rows with explicit_label = True\n",
        "explicit = song_data.loc[song_data['explicit_label'] == 'True']\n",
        "explicit"
      ]
    },
    {
      "cell_type": "code",
      "execution_count": null,
      "metadata": {
        "colab": {
          "base_uri": "https://localhost:8080/",
          "height": 641
        },
        "id": "2K4Z-ijhlsNa",
        "outputId": "227c94da-8e45-4d4c-a6bc-e713f7572a4f"
      },
      "outputs": [
        {
          "output_type": "execute_result",
          "data": {
            "text/plain": [
              "                       artist                         song  \\\n",
              "51337                 Santana          Somewhere In Heaven   \n",
              "28056           Cliff Richard  Can't Take The Hurt Anymore   \n",
              "46109  Nitty Gritty Dirt Band          Stand A Little Rain   \n",
              "19827                      U2                    Dirty Day   \n",
              "44161                 Misfits            Only Make Believe   \n",
              "...                       ...                          ...   \n",
              "48972                  Primus                 Lacquer Head   \n",
              "20499            Van Morrison                     Angeliou   \n",
              "9428              John Legend             I Love, You Love   \n",
              "23537         Alice In Chains               Sludge Factory   \n",
              "53174              Tim McGraw      Annie I Owe You A Dance   \n",
              "\n",
              "                                                    text explicit_label  \n",
              "51337  Somewhere   In heaven   There is a place   Wai...          False  \n",
              "28056  Now that the past has ended   My life's an ope...          False  \n",
              "46109  Dark cloud is coming   Headed straight for you...          False  \n",
              "19827  I don't know you   And you don't know the half...          False  \n",
              "44161  People see us everywhere   They think you real...          False  \n",
              "...                                                  ...            ...  \n",
              "48972  Sometimes bored and sometimes lonely   Pimple ...          False  \n",
              "20499  Angeliou oh Angeliou   Oh oh Angeliou Angeliou...          False  \n",
              "9428   Hush my baby, Don't you cry.   I'll dry your e...          False  \n",
              "23537  You insult me in my home, you're forgiven this...          False  \n",
              "53174  I was running late again, picking up a few thi...          False  \n",
              "\n",
              "[1356 rows x 4 columns]"
            ],
            "text/html": [
              "\n",
              "  <div id=\"df-78ab6464-96b9-45c9-8631-32cdda856ca5\">\n",
              "    <div class=\"colab-df-container\">\n",
              "      <div>\n",
              "<style scoped>\n",
              "    .dataframe tbody tr th:only-of-type {\n",
              "        vertical-align: middle;\n",
              "    }\n",
              "\n",
              "    .dataframe tbody tr th {\n",
              "        vertical-align: top;\n",
              "    }\n",
              "\n",
              "    .dataframe thead th {\n",
              "        text-align: right;\n",
              "    }\n",
              "</style>\n",
              "<table border=\"1\" class=\"dataframe\">\n",
              "  <thead>\n",
              "    <tr style=\"text-align: right;\">\n",
              "      <th></th>\n",
              "      <th>artist</th>\n",
              "      <th>song</th>\n",
              "      <th>text</th>\n",
              "      <th>explicit_label</th>\n",
              "    </tr>\n",
              "  </thead>\n",
              "  <tbody>\n",
              "    <tr>\n",
              "      <th>51337</th>\n",
              "      <td>Santana</td>\n",
              "      <td>Somewhere In Heaven</td>\n",
              "      <td>Somewhere   In heaven   There is a place   Wai...</td>\n",
              "      <td>False</td>\n",
              "    </tr>\n",
              "    <tr>\n",
              "      <th>28056</th>\n",
              "      <td>Cliff Richard</td>\n",
              "      <td>Can't Take The Hurt Anymore</td>\n",
              "      <td>Now that the past has ended   My life's an ope...</td>\n",
              "      <td>False</td>\n",
              "    </tr>\n",
              "    <tr>\n",
              "      <th>46109</th>\n",
              "      <td>Nitty Gritty Dirt Band</td>\n",
              "      <td>Stand A Little Rain</td>\n",
              "      <td>Dark cloud is coming   Headed straight for you...</td>\n",
              "      <td>False</td>\n",
              "    </tr>\n",
              "    <tr>\n",
              "      <th>19827</th>\n",
              "      <td>U2</td>\n",
              "      <td>Dirty Day</td>\n",
              "      <td>I don't know you   And you don't know the half...</td>\n",
              "      <td>False</td>\n",
              "    </tr>\n",
              "    <tr>\n",
              "      <th>44161</th>\n",
              "      <td>Misfits</td>\n",
              "      <td>Only Make Believe</td>\n",
              "      <td>People see us everywhere   They think you real...</td>\n",
              "      <td>False</td>\n",
              "    </tr>\n",
              "    <tr>\n",
              "      <th>...</th>\n",
              "      <td>...</td>\n",
              "      <td>...</td>\n",
              "      <td>...</td>\n",
              "      <td>...</td>\n",
              "    </tr>\n",
              "    <tr>\n",
              "      <th>48972</th>\n",
              "      <td>Primus</td>\n",
              "      <td>Lacquer Head</td>\n",
              "      <td>Sometimes bored and sometimes lonely   Pimple ...</td>\n",
              "      <td>False</td>\n",
              "    </tr>\n",
              "    <tr>\n",
              "      <th>20499</th>\n",
              "      <td>Van Morrison</td>\n",
              "      <td>Angeliou</td>\n",
              "      <td>Angeliou oh Angeliou   Oh oh Angeliou Angeliou...</td>\n",
              "      <td>False</td>\n",
              "    </tr>\n",
              "    <tr>\n",
              "      <th>9428</th>\n",
              "      <td>John Legend</td>\n",
              "      <td>I Love, You Love</td>\n",
              "      <td>Hush my baby, Don't you cry.   I'll dry your e...</td>\n",
              "      <td>False</td>\n",
              "    </tr>\n",
              "    <tr>\n",
              "      <th>23537</th>\n",
              "      <td>Alice In Chains</td>\n",
              "      <td>Sludge Factory</td>\n",
              "      <td>You insult me in my home, you're forgiven this...</td>\n",
              "      <td>False</td>\n",
              "    </tr>\n",
              "    <tr>\n",
              "      <th>53174</th>\n",
              "      <td>Tim McGraw</td>\n",
              "      <td>Annie I Owe You A Dance</td>\n",
              "      <td>I was running late again, picking up a few thi...</td>\n",
              "      <td>False</td>\n",
              "    </tr>\n",
              "  </tbody>\n",
              "</table>\n",
              "<p>1356 rows × 4 columns</p>\n",
              "</div>\n",
              "      <button class=\"colab-df-convert\" onclick=\"convertToInteractive('df-78ab6464-96b9-45c9-8631-32cdda856ca5')\"\n",
              "              title=\"Convert this dataframe to an interactive table.\"\n",
              "              style=\"display:none;\">\n",
              "        \n",
              "  <svg xmlns=\"http://www.w3.org/2000/svg\" height=\"24px\"viewBox=\"0 0 24 24\"\n",
              "       width=\"24px\">\n",
              "    <path d=\"M0 0h24v24H0V0z\" fill=\"none\"/>\n",
              "    <path d=\"M18.56 5.44l.94 2.06.94-2.06 2.06-.94-2.06-.94-.94-2.06-.94 2.06-2.06.94zm-11 1L8.5 8.5l.94-2.06 2.06-.94-2.06-.94L8.5 2.5l-.94 2.06-2.06.94zm10 10l.94 2.06.94-2.06 2.06-.94-2.06-.94-.94-2.06-.94 2.06-2.06.94z\"/><path d=\"M17.41 7.96l-1.37-1.37c-.4-.4-.92-.59-1.43-.59-.52 0-1.04.2-1.43.59L10.3 9.45l-7.72 7.72c-.78.78-.78 2.05 0 2.83L4 21.41c.39.39.9.59 1.41.59.51 0 1.02-.2 1.41-.59l7.78-7.78 2.81-2.81c.8-.78.8-2.07 0-2.86zM5.41 20L4 18.59l7.72-7.72 1.47 1.35L5.41 20z\"/>\n",
              "  </svg>\n",
              "      </button>\n",
              "      \n",
              "  <style>\n",
              "    .colab-df-container {\n",
              "      display:flex;\n",
              "      flex-wrap:wrap;\n",
              "      gap: 12px;\n",
              "    }\n",
              "\n",
              "    .colab-df-convert {\n",
              "      background-color: #E8F0FE;\n",
              "      border: none;\n",
              "      border-radius: 50%;\n",
              "      cursor: pointer;\n",
              "      display: none;\n",
              "      fill: #1967D2;\n",
              "      height: 32px;\n",
              "      padding: 0 0 0 0;\n",
              "      width: 32px;\n",
              "    }\n",
              "\n",
              "    .colab-df-convert:hover {\n",
              "      background-color: #E2EBFA;\n",
              "      box-shadow: 0px 1px 2px rgba(60, 64, 67, 0.3), 0px 1px 3px 1px rgba(60, 64, 67, 0.15);\n",
              "      fill: #174EA6;\n",
              "    }\n",
              "\n",
              "    [theme=dark] .colab-df-convert {\n",
              "      background-color: #3B4455;\n",
              "      fill: #D2E3FC;\n",
              "    }\n",
              "\n",
              "    [theme=dark] .colab-df-convert:hover {\n",
              "      background-color: #434B5C;\n",
              "      box-shadow: 0px 1px 3px 1px rgba(0, 0, 0, 0.15);\n",
              "      filter: drop-shadow(0px 1px 2px rgba(0, 0, 0, 0.3));\n",
              "      fill: #FFFFFF;\n",
              "    }\n",
              "  </style>\n",
              "\n",
              "      <script>\n",
              "        const buttonEl =\n",
              "          document.querySelector('#df-78ab6464-96b9-45c9-8631-32cdda856ca5 button.colab-df-convert');\n",
              "        buttonEl.style.display =\n",
              "          google.colab.kernel.accessAllowed ? 'block' : 'none';\n",
              "\n",
              "        async function convertToInteractive(key) {\n",
              "          const element = document.querySelector('#df-78ab6464-96b9-45c9-8631-32cdda856ca5');\n",
              "          const dataTable =\n",
              "            await google.colab.kernel.invokeFunction('convertToInteractive',\n",
              "                                                     [key], {});\n",
              "          if (!dataTable) return;\n",
              "\n",
              "          const docLinkHtml = 'Like what you see? Visit the ' +\n",
              "            '<a target=\"_blank\" href=https://colab.research.google.com/notebooks/data_table.ipynb>data table notebook</a>'\n",
              "            + ' to learn more about interactive tables.';\n",
              "          element.innerHTML = '';\n",
              "          dataTable['output_type'] = 'display_data';\n",
              "          await google.colab.output.renderOutput(dataTable, element);\n",
              "          const docLink = document.createElement('div');\n",
              "          docLink.innerHTML = docLinkHtml;\n",
              "          element.appendChild(docLink);\n",
              "        }\n",
              "      </script>\n",
              "    </div>\n",
              "  </div>\n",
              "  "
            ]
          },
          "metadata": {},
          "execution_count": 80
        }
      ],
      "source": [
        "#ramdomly extract 1356 rows with explicit_label = False, which is 3 times as many as song_data_1\n",
        "clean = song_data.loc[song_data['explicit_label'] == 'False']\n",
        "clean = clean.sample(n=1356, replace=False, random_state=100)\n",
        "clean"
      ]
    },
    {
      "cell_type": "code",
      "execution_count": null,
      "metadata": {
        "colab": {
          "base_uri": "https://localhost:8080/",
          "height": 467
        },
        "id": "vtWH3IPciv7M",
        "outputId": "8f6cfcef-164f-43cc-8d34-11349ff6b0b1"
      },
      "outputs": [
        {
          "output_type": "execute_result",
          "data": {
            "text/plain": [
              "                artist                        song  \\\n",
              "128       Adam Sandler                  Mr. Bake-O   \n",
              "129       Adam Sandler      Steve Polychronopolous   \n",
              "909      Avril Lavigne  Here's To Never Growing Up   \n",
              "929      Avril Lavigne                 Rock N Roll   \n",
              "2089        Bruno Mars                    Treasure   \n",
              "...                ...                         ...   \n",
              "48972           Primus                Lacquer Head   \n",
              "20499     Van Morrison                    Angeliou   \n",
              "9428       John Legend            I Love, You Love   \n",
              "23537  Alice In Chains              Sludge Factory   \n",
              "53174       Tim McGraw     Annie I Owe You A Dance   \n",
              "\n",
              "                                                    text  \n",
              "128             I'm sitting in my chair watching the ...  \n",
              "129    I'm a big fuckin' dick   I'm a pain in your as...  \n",
              "909    Singing Radiohead at the top of our lungs   Wi...  \n",
              "929    Let them know that we're still rock n roll   I...  \n",
              "2089   Give me all, give me all, give me all your att...  \n",
              "...                                                  ...  \n",
              "48972  Sometimes bored and sometimes lonely   Pimple ...  \n",
              "20499  Angeliou oh Angeliou   Oh oh Angeliou Angeliou...  \n",
              "9428   Hush my baby, Don't you cry.   I'll dry your e...  \n",
              "23537  You insult me in my home, you're forgiven this...  \n",
              "53174  I was running late again, picking up a few thi...  \n",
              "\n",
              "[2712 rows x 3 columns]"
            ],
            "text/html": [
              "\n",
              "  <div id=\"df-e96df592-5596-4d9d-b21c-a7c8228f04d1\">\n",
              "    <div class=\"colab-df-container\">\n",
              "      <div>\n",
              "<style scoped>\n",
              "    .dataframe tbody tr th:only-of-type {\n",
              "        vertical-align: middle;\n",
              "    }\n",
              "\n",
              "    .dataframe tbody tr th {\n",
              "        vertical-align: top;\n",
              "    }\n",
              "\n",
              "    .dataframe thead th {\n",
              "        text-align: right;\n",
              "    }\n",
              "</style>\n",
              "<table border=\"1\" class=\"dataframe\">\n",
              "  <thead>\n",
              "    <tr style=\"text-align: right;\">\n",
              "      <th></th>\n",
              "      <th>artist</th>\n",
              "      <th>song</th>\n",
              "      <th>text</th>\n",
              "    </tr>\n",
              "  </thead>\n",
              "  <tbody>\n",
              "    <tr>\n",
              "      <th>128</th>\n",
              "      <td>Adam Sandler</td>\n",
              "      <td>Mr. Bake-O</td>\n",
              "      <td>I'm sitting in my chair watching the ...</td>\n",
              "    </tr>\n",
              "    <tr>\n",
              "      <th>129</th>\n",
              "      <td>Adam Sandler</td>\n",
              "      <td>Steve Polychronopolous</td>\n",
              "      <td>I'm a big fuckin' dick   I'm a pain in your as...</td>\n",
              "    </tr>\n",
              "    <tr>\n",
              "      <th>909</th>\n",
              "      <td>Avril Lavigne</td>\n",
              "      <td>Here's To Never Growing Up</td>\n",
              "      <td>Singing Radiohead at the top of our lungs   Wi...</td>\n",
              "    </tr>\n",
              "    <tr>\n",
              "      <th>929</th>\n",
              "      <td>Avril Lavigne</td>\n",
              "      <td>Rock N Roll</td>\n",
              "      <td>Let them know that we're still rock n roll   I...</td>\n",
              "    </tr>\n",
              "    <tr>\n",
              "      <th>2089</th>\n",
              "      <td>Bruno Mars</td>\n",
              "      <td>Treasure</td>\n",
              "      <td>Give me all, give me all, give me all your att...</td>\n",
              "    </tr>\n",
              "    <tr>\n",
              "      <th>...</th>\n",
              "      <td>...</td>\n",
              "      <td>...</td>\n",
              "      <td>...</td>\n",
              "    </tr>\n",
              "    <tr>\n",
              "      <th>48972</th>\n",
              "      <td>Primus</td>\n",
              "      <td>Lacquer Head</td>\n",
              "      <td>Sometimes bored and sometimes lonely   Pimple ...</td>\n",
              "    </tr>\n",
              "    <tr>\n",
              "      <th>20499</th>\n",
              "      <td>Van Morrison</td>\n",
              "      <td>Angeliou</td>\n",
              "      <td>Angeliou oh Angeliou   Oh oh Angeliou Angeliou...</td>\n",
              "    </tr>\n",
              "    <tr>\n",
              "      <th>9428</th>\n",
              "      <td>John Legend</td>\n",
              "      <td>I Love, You Love</td>\n",
              "      <td>Hush my baby, Don't you cry.   I'll dry your e...</td>\n",
              "    </tr>\n",
              "    <tr>\n",
              "      <th>23537</th>\n",
              "      <td>Alice In Chains</td>\n",
              "      <td>Sludge Factory</td>\n",
              "      <td>You insult me in my home, you're forgiven this...</td>\n",
              "    </tr>\n",
              "    <tr>\n",
              "      <th>53174</th>\n",
              "      <td>Tim McGraw</td>\n",
              "      <td>Annie I Owe You A Dance</td>\n",
              "      <td>I was running late again, picking up a few thi...</td>\n",
              "    </tr>\n",
              "  </tbody>\n",
              "</table>\n",
              "<p>2712 rows × 3 columns</p>\n",
              "</div>\n",
              "      <button class=\"colab-df-convert\" onclick=\"convertToInteractive('df-e96df592-5596-4d9d-b21c-a7c8228f04d1')\"\n",
              "              title=\"Convert this dataframe to an interactive table.\"\n",
              "              style=\"display:none;\">\n",
              "        \n",
              "  <svg xmlns=\"http://www.w3.org/2000/svg\" height=\"24px\"viewBox=\"0 0 24 24\"\n",
              "       width=\"24px\">\n",
              "    <path d=\"M0 0h24v24H0V0z\" fill=\"none\"/>\n",
              "    <path d=\"M18.56 5.44l.94 2.06.94-2.06 2.06-.94-2.06-.94-.94-2.06-.94 2.06-2.06.94zm-11 1L8.5 8.5l.94-2.06 2.06-.94-2.06-.94L8.5 2.5l-.94 2.06-2.06.94zm10 10l.94 2.06.94-2.06 2.06-.94-2.06-.94-.94-2.06-.94 2.06-2.06.94z\"/><path d=\"M17.41 7.96l-1.37-1.37c-.4-.4-.92-.59-1.43-.59-.52 0-1.04.2-1.43.59L10.3 9.45l-7.72 7.72c-.78.78-.78 2.05 0 2.83L4 21.41c.39.39.9.59 1.41.59.51 0 1.02-.2 1.41-.59l7.78-7.78 2.81-2.81c.8-.78.8-2.07 0-2.86zM5.41 20L4 18.59l7.72-7.72 1.47 1.35L5.41 20z\"/>\n",
              "  </svg>\n",
              "      </button>\n",
              "      \n",
              "  <style>\n",
              "    .colab-df-container {\n",
              "      display:flex;\n",
              "      flex-wrap:wrap;\n",
              "      gap: 12px;\n",
              "    }\n",
              "\n",
              "    .colab-df-convert {\n",
              "      background-color: #E8F0FE;\n",
              "      border: none;\n",
              "      border-radius: 50%;\n",
              "      cursor: pointer;\n",
              "      display: none;\n",
              "      fill: #1967D2;\n",
              "      height: 32px;\n",
              "      padding: 0 0 0 0;\n",
              "      width: 32px;\n",
              "    }\n",
              "\n",
              "    .colab-df-convert:hover {\n",
              "      background-color: #E2EBFA;\n",
              "      box-shadow: 0px 1px 2px rgba(60, 64, 67, 0.3), 0px 1px 3px 1px rgba(60, 64, 67, 0.15);\n",
              "      fill: #174EA6;\n",
              "    }\n",
              "\n",
              "    [theme=dark] .colab-df-convert {\n",
              "      background-color: #3B4455;\n",
              "      fill: #D2E3FC;\n",
              "    }\n",
              "\n",
              "    [theme=dark] .colab-df-convert:hover {\n",
              "      background-color: #434B5C;\n",
              "      box-shadow: 0px 1px 3px 1px rgba(0, 0, 0, 0.15);\n",
              "      filter: drop-shadow(0px 1px 2px rgba(0, 0, 0, 0.3));\n",
              "      fill: #FFFFFF;\n",
              "    }\n",
              "  </style>\n",
              "\n",
              "      <script>\n",
              "        const buttonEl =\n",
              "          document.querySelector('#df-e96df592-5596-4d9d-b21c-a7c8228f04d1 button.colab-df-convert');\n",
              "        buttonEl.style.display =\n",
              "          google.colab.kernel.accessAllowed ? 'block' : 'none';\n",
              "\n",
              "        async function convertToInteractive(key) {\n",
              "          const element = document.querySelector('#df-e96df592-5596-4d9d-b21c-a7c8228f04d1');\n",
              "          const dataTable =\n",
              "            await google.colab.kernel.invokeFunction('convertToInteractive',\n",
              "                                                     [key], {});\n",
              "          if (!dataTable) return;\n",
              "\n",
              "          const docLinkHtml = 'Like what you see? Visit the ' +\n",
              "            '<a target=\"_blank\" href=https://colab.research.google.com/notebooks/data_table.ipynb>data table notebook</a>'\n",
              "            + ' to learn more about interactive tables.';\n",
              "          element.innerHTML = '';\n",
              "          dataTable['output_type'] = 'display_data';\n",
              "          await google.colab.output.renderOutput(dataTable, element);\n",
              "          const docLink = document.createElement('div');\n",
              "          docLink.innerHTML = docLinkHtml;\n",
              "          element.appendChild(docLink);\n",
              "        }\n",
              "      </script>\n",
              "    </div>\n",
              "  </div>\n",
              "  "
            ]
          },
          "metadata": {},
          "execution_count": 81
        }
      ],
      "source": [
        "X = explicit.iloc[:,:-1].append(clean.iloc[:,:-1])\n",
        "X"
      ]
    },
    {
      "cell_type": "code",
      "execution_count": null,
      "metadata": {
        "colab": {
          "base_uri": "https://localhost:8080/"
        },
        "id": "CablIbjioONR",
        "outputId": "deeab083-6f3b-471e-adf0-da74b3a68bb2"
      },
      "outputs": [
        {
          "output_type": "execute_result",
          "data": {
            "text/plain": [
              "128       True\n",
              "129       True\n",
              "909       True\n",
              "929       True\n",
              "2089      True\n",
              "         ...  \n",
              "48972    False\n",
              "20499    False\n",
              "9428     False\n",
              "23537    False\n",
              "53174    False\n",
              "Name: explicit_label, Length: 2712, dtype: object"
            ]
          },
          "metadata": {},
          "execution_count": 82
        }
      ],
      "source": [
        "Y = explicit.iloc[:,-1].append(clean.iloc[:,-1])\n",
        "Y"
      ]
    },
    {
      "cell_type": "code",
      "execution_count": null,
      "metadata": {
        "id": "RMvwi0Grm8lf"
      },
      "outputs": [],
      "source": []
    },
    {
      "cell_type": "code",
      "execution_count": null,
      "metadata": {
        "id": "60xbKM5aia7e"
      },
      "outputs": [],
      "source": [
        "from sklearn.model_selection import train_test_split\n",
        "X_train, X_test, Y_train, Y_test = train_test_split(X, Y, test_size=1356, random_state=100)\n",
        "\n"
      ]
    },
    {
      "cell_type": "code",
      "source": [
        "Y_train"
      ],
      "metadata": {
        "colab": {
          "base_uri": "https://localhost:8080/"
        },
        "id": "UCipMuMvXCEu",
        "outputId": "e582b7fa-d333-4b3a-de71-4334699adad2"
      },
      "execution_count": null,
      "outputs": [
        {
          "output_type": "execute_result",
          "data": {
            "text/plain": [
              "29918    False\n",
              "54435    False\n",
              "37688    False\n",
              "45235    False\n",
              "11576    False\n",
              "         ...  \n",
              "17659     True\n",
              "8490     False\n",
              "5748      True\n",
              "11618    False\n",
              "781      False\n",
              "Name: explicit_label, Length: 1356, dtype: object"
            ]
          },
          "metadata": {},
          "execution_count": 84
        }
      ]
    },
    {
      "cell_type": "code",
      "source": [
        "!pip install pyLDAvis"
      ],
      "metadata": {
        "colab": {
          "base_uri": "https://localhost:8080/"
        },
        "id": "2hz8JnLX7vfB",
        "outputId": "2b3713f9-0a54-40d4-e4af-5ba8bdcb6495"
      },
      "execution_count": null,
      "outputs": [
        {
          "output_type": "stream",
          "name": "stdout",
          "text": [
            "Looking in indexes: https://pypi.org/simple, https://us-python.pkg.dev/colab-wheels/public/simple/\n",
            "Requirement already satisfied: pyLDAvis in /usr/local/lib/python3.7/dist-packages (3.3.1)\n",
            "Requirement already satisfied: setuptools in /usr/local/lib/python3.7/dist-packages (from pyLDAvis) (57.4.0)\n",
            "Requirement already satisfied: future in /usr/local/lib/python3.7/dist-packages (from pyLDAvis) (0.16.0)\n",
            "Requirement already satisfied: scipy in /usr/local/lib/python3.7/dist-packages (from pyLDAvis) (1.7.3)\n",
            "Requirement already satisfied: joblib in /usr/local/lib/python3.7/dist-packages (from pyLDAvis) (1.2.0)\n",
            "Requirement already satisfied: numexpr in /usr/local/lib/python3.7/dist-packages (from pyLDAvis) (2.8.4)\n",
            "Requirement already satisfied: pandas>=1.2.0 in /usr/local/lib/python3.7/dist-packages (from pyLDAvis) (1.3.5)\n",
            "Requirement already satisfied: gensim in /usr/local/lib/python3.7/dist-packages (from pyLDAvis) (3.6.0)\n",
            "Requirement already satisfied: sklearn in /usr/local/lib/python3.7/dist-packages (from pyLDAvis) (0.0.post1)\n",
            "Requirement already satisfied: scikit-learn in /usr/local/lib/python3.7/dist-packages (from pyLDAvis) (1.0.2)\n",
            "Requirement already satisfied: numpy>=1.20.0 in /usr/local/lib/python3.7/dist-packages (from pyLDAvis) (1.21.6)\n",
            "Requirement already satisfied: funcy in /usr/local/lib/python3.7/dist-packages (from pyLDAvis) (1.17)\n",
            "Requirement already satisfied: jinja2 in /usr/local/lib/python3.7/dist-packages (from pyLDAvis) (2.11.3)\n",
            "Requirement already satisfied: python-dateutil>=2.7.3 in /usr/local/lib/python3.7/dist-packages (from pandas>=1.2.0->pyLDAvis) (2.8.2)\n",
            "Requirement already satisfied: pytz>=2017.3 in /usr/local/lib/python3.7/dist-packages (from pandas>=1.2.0->pyLDAvis) (2022.6)\n",
            "Requirement already satisfied: six>=1.5 in /usr/local/lib/python3.7/dist-packages (from python-dateutil>=2.7.3->pandas>=1.2.0->pyLDAvis) (1.15.0)\n",
            "Requirement already satisfied: smart-open>=1.2.1 in /usr/local/lib/python3.7/dist-packages (from gensim->pyLDAvis) (5.2.1)\n",
            "Requirement already satisfied: MarkupSafe>=0.23 in /usr/local/lib/python3.7/dist-packages (from jinja2->pyLDAvis) (2.0.1)\n",
            "Requirement already satisfied: threadpoolctl>=2.0.0 in /usr/local/lib/python3.7/dist-packages (from scikit-learn->pyLDAvis) (3.1.0)\n"
          ]
        }
      ]
    },
    {
      "cell_type": "code",
      "source": [],
      "metadata": {
        "id": "dynqRZgN798h"
      },
      "execution_count": null,
      "outputs": []
    },
    {
      "cell_type": "code",
      "source": [
        "train_data = []\n",
        "for i in range(len(X_train)):\n",
        "    text = X_train.iloc[i,2]\n",
        "    train_data.append(text)"
      ],
      "metadata": {
        "id": "Fd0m2RRJ7bf8"
      },
      "execution_count": null,
      "outputs": []
    },
    {
      "cell_type": "code",
      "execution_count": null,
      "metadata": {
        "id": "voAuAod9ibsk"
      },
      "outputs": [],
      "source": [
        "#Define Explicit to 1, Clean to 0\n",
        "train_label = []\n",
        "for i in range(len(Y_train)):\n",
        "    o = Y_train.iloc[i]\n",
        "    if o==\"False\":\n",
        "        o = 0\n",
        "    else:\n",
        "        o = 1\n",
        "    train_label.append(o)\n",
        "\n",
        "test_label = []\n",
        "for i in range(len(Y_test)):\n",
        "    p = Y_test.iloc[i]\n",
        "    if p==\"False\":\n",
        "        p = 0\n",
        "    else:\n",
        "        p = 1\n",
        "    test_label.append(p)\n",
        "    \n",
        "\n",
        "    \n",
        "test_data = []\n",
        "for i in range(len(X_test)):\n",
        "    text = X_test.iloc[i,2]\n",
        "    test_data.append(text)"
      ]
    },
    {
      "cell_type": "markdown",
      "metadata": {
        "id": "M0vG_dTIZEfF"
      },
      "source": [
        "#Customized Features"
      ]
    },
    {
      "cell_type": "markdown",
      "metadata": {
        "id": "Us1bgWoW2XHU"
      },
      "source": [
        "Import Bad Words List"
      ]
    },
    {
      "cell_type": "code",
      "execution_count": null,
      "metadata": {
        "id": "JsdNEXfI2WWO"
      },
      "outputs": [],
      "source": [
        "file = open('/content/drive/MyDrive/Explicit Content Analysis/badwords3.txt','r')\n",
        "file = list(file)\n",
        "bad_words = []\n",
        "for w in file:\n",
        "    bad_words.append(re.sub(r'\\n','',w))"
      ]
    },
    {
      "cell_type": "code",
      "source": [
        "bad_words"
      ],
      "metadata": {
        "id": "6LwvcWhpqPf9"
      },
      "execution_count": null,
      "outputs": []
    },
    {
      "cell_type": "markdown",
      "metadata": {
        "id": "PdMApLycangd"
      },
      "source": [
        "Create customized features"
      ]
    },
    {
      "cell_type": "code",
      "execution_count": null,
      "metadata": {
        "id": "lpOfKrjQBQ1_"
      },
      "outputs": [],
      "source": []
    },
    {
      "cell_type": "code",
      "execution_count": null,
      "metadata": {
        "id": "8nvjF8kjBnZ8"
      },
      "outputs": [],
      "source": [
        "from sklearn.pipeline import FeatureUnion\n",
        "from sklearn.pipeline import Pipeline, make_pipeline\n",
        "from sklearn.base import BaseEstimator, TransformerMixin\n",
        "from sklearn.metrics import classification_report\n",
        "from sklearn.model_selection import GridSearchCV\n",
        "from sklearn.feature_extraction import DictVectorizer\n",
        "from sklearn.feature_extraction.text import CountVectorizer, TfidfVectorizer"
      ]
    },
    {
      "cell_type": "code",
      "source": [
        "import re"
      ],
      "metadata": {
        "id": "xONojta9uUVZ"
      },
      "execution_count": null,
      "outputs": []
    },
    {
      "cell_type": "code",
      "execution_count": null,
      "metadata": {
        "id": "5H1NAKtRHnJu"
      },
      "outputs": [],
      "source": [
        "def get_bad_words(review):\n",
        "  target_word = bad_words\n",
        "  count = 0\n",
        "  threshold = 0\n",
        "  for t in target_word:\n",
        "        if review.find(t) != -1:\n",
        "            count += 1\n",
        "  return count > threshold\n",
        "\n",
        "def get_num_words(review):\n",
        "  threshold = 0\n",
        "  words = str(review).split(' ')\n",
        "  count = len(list(words))\n",
        "  return count > threshold\n",
        "\n",
        "def get_lda_words(review):\n",
        "  target_word = ['chorus','girl','money','baby','nigga','bitch','want','love','wanna','gonna','come','right','shit','feel']\n",
        "  count = 0\n",
        "  threshold = 0\n",
        "  for t in target_word:\n",
        "        if review.find(t) != -1:\n",
        "            count += 1\n",
        "  return count > threshold"
      ]
    },
    {
      "cell_type": "code",
      "execution_count": null,
      "metadata": {
        "id": "2EbBb_pHFMQf"
      },
      "outputs": [],
      "source": [
        "class CustomFeats(BaseEstimator, TransformerMixin):\n",
        "    def __init__(self):\n",
        "      self.feat_names = set()\n",
        "\n",
        "    def fit(self, x, y=None):\n",
        "        return self\n",
        "\n",
        "    @staticmethod\n",
        "    def features(review):\n",
        "      return {\n",
        "          'num_word': get_num_words(review),\n",
        "          'bad_word': get_bad_words(review),\n",
        "          'lda_word': get_lda_words(review)\n",
        "      }\n",
        "\n",
        "    def get_feature_names(self):\n",
        "        return list(self.feat_names)\n",
        "      \n",
        "    def transform(self, reviews):\n",
        "      feats = []\n",
        "      for review in reviews:\n",
        "        f = self.features(review)\n",
        "        [self.feat_names.add(k) for k in f] \n",
        "        feats.append(f)\n",
        "      return feats\n",
        "\n",
        "#feats = make_pipeline(CustomFeats(), DictVectorizer())\n",
        "feats = FeatureUnion([\n",
        "     ('custom', make_pipeline(CustomFeats(), DictVectorizer())),\n",
        "     ('bag_of_words', TfidfVectorizer(stop_words='english'))\n",
        " ])"
      ]
    },
    {
      "cell_type": "markdown",
      "metadata": {
        "id": "4RBUE-QUGxaA"
      },
      "source": [
        "BaseEstimator provides among other things a default implementation for the get_params and set_params methods, see [the source code]. This is useful to make the model grid search-able with GridSearchCV for automated parameters tuning and behave well with others when combined in a Pipeline."
      ]
    },
    {
      "cell_type": "markdown",
      "metadata": {
        "id": "gxJ8WdtFHL3Q"
      },
      "source": [
        "In scikit-learn, Transformers are objects that transform a dataset into a new one to prepare the dataset for predictive modeling, e.g., scaling numeric values, one-hot encoding categoricals, etc."
      ]
    },
    {
      "cell_type": "markdown",
      "metadata": {
        "id": "FVJmPZd0DGlu"
      },
      "source": [
        "When using Pipeline, each step passes its output to the next step as an input. Therefore, we don’t have to manually keep track of different versions of the data. This approach gives us the exact same final output but with more elegant code."
      ]
    },
    {
      "cell_type": "markdown",
      "metadata": {
        "id": "jhlvlglhEZEy"
      },
      "source": [
        "ColumnTransformer complements Pipeline nicely when we need to do different sets of operations on different subsets of columns."
      ]
    },
    {
      "cell_type": "markdown",
      "metadata": {
        "id": "-ikk3wV9E9OT"
      },
      "source": [
        "If you ever need to transform the same input data in different ways and use them as features, FeatureUnion is the one. For example, if you are working on a text data and want to do both tf-idf vectorisation of the data as well as extract length of text, FeatureUnion is the perfect tool."
      ]
    },
    {
      "cell_type": "markdown",
      "metadata": {
        "id": "hX4fjNc0cntk"
      },
      "source": [
        "#Data Modelling"
      ]
    },
    {
      "cell_type": "code",
      "execution_count": null,
      "metadata": {
        "id": "c6pMgCmpc_px"
      },
      "outputs": [],
      "source": [
        "from sklearn.metrics import classification_report\n",
        "from sklearn.metrics import confusion_matrix, precision_score, precision_recall_curve, recall_score, f1_score"
      ]
    },
    {
      "cell_type": "code",
      "source": [
        "model.fit(train_vecs, feats.fit_transform(Y_train).argmax(axis=1))"
      ],
      "metadata": {
        "colab": {
          "base_uri": "https://localhost:8080/",
          "height": 166
        },
        "id": "hiyG0iwiRtkR",
        "outputId": "93e42ff3-6fc1-4b97-ac51-c2e3732e6eb8"
      },
      "execution_count": null,
      "outputs": [
        {
          "output_type": "error",
          "ename": "NameError",
          "evalue": "ignored",
          "traceback": [
            "\u001b[0;31m---------------------------------------------------------------------------\u001b[0m",
            "\u001b[0;31mNameError\u001b[0m                                 Traceback (most recent call last)",
            "\u001b[0;32m<ipython-input-72-1cb2b01e58d8>\u001b[0m in \u001b[0;36m<module>\u001b[0;34m\u001b[0m\n\u001b[0;32m----> 1\u001b[0;31m \u001b[0mmodel\u001b[0m\u001b[0;34m.\u001b[0m\u001b[0mfit\u001b[0m\u001b[0;34m(\u001b[0m\u001b[0mtrain_vecs\u001b[0m\u001b[0;34m,\u001b[0m \u001b[0mfeats\u001b[0m\u001b[0;34m.\u001b[0m\u001b[0mfit_transform\u001b[0m\u001b[0;34m(\u001b[0m\u001b[0mY_train\u001b[0m\u001b[0;34m)\u001b[0m\u001b[0;34m.\u001b[0m\u001b[0margmax\u001b[0m\u001b[0;34m(\u001b[0m\u001b[0maxis\u001b[0m\u001b[0;34m=\u001b[0m\u001b[0;36m1\u001b[0m\u001b[0;34m)\u001b[0m\u001b[0;34m)\u001b[0m\u001b[0;34m\u001b[0m\u001b[0;34m\u001b[0m\u001b[0m\n\u001b[0m",
            "\u001b[0;31mNameError\u001b[0m: name 'model' is not defined"
          ]
        }
      ]
    },
    {
      "cell_type": "code",
      "source": [
        "train_data"
      ],
      "metadata": {
        "id": "Es9INYCiVBBa"
      },
      "execution_count": null,
      "outputs": []
    },
    {
      "cell_type": "code",
      "execution_count": null,
      "metadata": {
        "id": "3jvLMS_hcqVa"
      },
      "outputs": [],
      "source": [
        "def classification(feats, model):  \n",
        "  train_vecs = feats.fit_transform(train_data)\n",
        "  test_vecs = feats.transform(test_data)\n",
        "    \n",
        "  model.fit(train_vecs, train_label)\n",
        "\n",
        "  train_preds = model.predict(train_vecs)\n",
        "  train_f1 = f1_score(test_label, train_preds, average='macro')*100,'%'\n",
        "\n",
        "  test_preds = model.predict(test_vecs)\n",
        "  test_f1 = f1_score(test_label, test_preds, average='macro')*100,'%'\n",
        "\n",
        "  cm = confusion_matrix(test_label, test_preds)\n",
        "  print(\"Confusion Matrix : \\n\", cm, \" \\n\")\n",
        "\n",
        "  report = classification_report(test_label, test_preds)\n",
        "  print(report)\n",
        "\n",
        "  return train_f1,test_f1"
      ]
    },
    {
      "cell_type": "markdown",
      "metadata": {
        "id": "Q76JqXpXIRwv"
      },
      "source": [
        "#Parameter Tuning with Grid_Search"
      ]
    },
    {
      "cell_type": "code",
      "execution_count": null,
      "metadata": {
        "id": "bil7VGW_Igwn"
      },
      "outputs": [],
      "source": [
        "from sklearn.tree import DecisionTreeClassifier"
      ]
    },
    {
      "cell_type": "code",
      "execution_count": null,
      "metadata": {
        "colab": {
          "base_uri": "https://localhost:8080/"
        },
        "id": "Puoj2F72IQsk",
        "outputId": "ad175d47-e94f-478f-9d6c-581bf89f49d9"
      },
      "outputs": [
        {
          "output_type": "execute_result",
          "data": {
            "text/plain": [
              "({'mean_fit_time': array([0.24188032, 0.23992157, 0.24157844, 0.24352498, 0.23522263,\n",
              "         0.24289064, 0.23972249, 0.23569913, 0.23876581, 0.24206324,\n",
              "         0.24190249, 0.2341888 , 0.23784471, 0.23853683, 0.23404059,\n",
              "         0.24415059, 0.2404654 , 0.24029675, 0.24408531, 0.23872929]),\n",
              "  'std_fit_time': array([0.00526732, 0.01473285, 0.00601725, 0.00805412, 0.01068567,\n",
              "         0.01093478, 0.00893761, 0.00398558, 0.00361833, 0.00370416,\n",
              "         0.01168745, 0.00814205, 0.00975964, 0.0059175 , 0.0077501 ,\n",
              "         0.01045634, 0.00817178, 0.00998182, 0.01687531, 0.01253536]),\n",
              "  'mean_score_time': array([0.00165935, 0.00168614, 0.00164423, 0.00170298, 0.00167847,\n",
              "         0.00163255, 0.00162005, 0.00165896, 0.00166159, 0.00171409,\n",
              "         0.00163374, 0.00163274, 0.00163145, 0.00161295, 0.00176034,\n",
              "         0.00164671, 0.00169811, 0.00181961, 0.001617  , 0.00166774]),\n",
              "  'std_score_time': array([6.66196974e-05, 1.13773926e-04, 4.03669058e-05, 6.61648973e-05,\n",
              "         1.73319976e-04, 5.67529574e-05, 5.50768592e-05, 6.59114878e-05,\n",
              "         5.46883371e-05, 1.02298920e-04, 6.46902322e-05, 4.41293147e-05,\n",
              "         8.91947325e-05, 4.23111773e-05, 2.99058588e-04, 3.94872994e-05,\n",
              "         3.12019151e-05, 3.31326071e-04, 3.72083951e-05, 5.02937762e-05]),\n",
              "  'param_max_depth': masked_array(data=[60, 61, 62, 63, 64, 65, 66, 67, 68, 69, 70, 71, 72, 73,\n",
              "                     74, 75, 76, 77, 78, 79],\n",
              "               mask=[False, False, False, False, False, False, False, False,\n",
              "                     False, False, False, False, False, False, False, False,\n",
              "                     False, False, False, False],\n",
              "         fill_value='?',\n",
              "              dtype=object),\n",
              "  'params': [{'max_depth': 60},\n",
              "   {'max_depth': 61},\n",
              "   {'max_depth': 62},\n",
              "   {'max_depth': 63},\n",
              "   {'max_depth': 64},\n",
              "   {'max_depth': 65},\n",
              "   {'max_depth': 66},\n",
              "   {'max_depth': 67},\n",
              "   {'max_depth': 68},\n",
              "   {'max_depth': 69},\n",
              "   {'max_depth': 70},\n",
              "   {'max_depth': 71},\n",
              "   {'max_depth': 72},\n",
              "   {'max_depth': 73},\n",
              "   {'max_depth': 74},\n",
              "   {'max_depth': 75},\n",
              "   {'max_depth': 76},\n",
              "   {'max_depth': 77},\n",
              "   {'max_depth': 78},\n",
              "   {'max_depth': 79}],\n",
              "  'split0_test_score': array([0.82706767, 0.80451128, 0.82706767, 0.81954887, 0.84210526,\n",
              "         0.84210526, 0.80451128, 0.83458647, 0.84210526, 0.81203008,\n",
              "         0.83458647, 0.84962406, 0.80451128, 0.82706767, 0.80451128,\n",
              "         0.81954887, 0.82706767, 0.82706767, 0.83458647, 0.82706767]),\n",
              "  'split1_test_score': array([0.80451128, 0.80451128, 0.80451128, 0.80451128, 0.81203008,\n",
              "         0.80451128, 0.80451128, 0.82706767, 0.80451128, 0.81203008,\n",
              "         0.81954887, 0.80451128, 0.81203008, 0.81954887, 0.81954887,\n",
              "         0.81954887, 0.81203008, 0.81954887, 0.79699248, 0.79699248]),\n",
              "  'split2_test_score': array([0.81954887, 0.84210526, 0.82706767, 0.83458647, 0.83458647,\n",
              "         0.82706767, 0.81954887, 0.82706767, 0.81203008, 0.81203008,\n",
              "         0.82706767, 0.81954887, 0.80451128, 0.80451128, 0.83458647,\n",
              "         0.84962406, 0.81203008, 0.83458647, 0.83458647, 0.83458647]),\n",
              "  'split3_test_score': array([0.79699248, 0.83458647, 0.81203008, 0.81203008, 0.81203008,\n",
              "         0.81203008, 0.82706767, 0.85714286, 0.83458647, 0.81203008,\n",
              "         0.86466165, 0.85714286, 0.80451128, 0.78195489, 0.82706767,\n",
              "         0.84210526, 0.81954887, 0.80451128, 0.86466165, 0.79699248]),\n",
              "  'split4_test_score': array([0.7593985 , 0.78947368, 0.77443609, 0.7593985 , 0.81954887,\n",
              "         0.78947368, 0.78195489, 0.77443609, 0.78195489, 0.78947368,\n",
              "         0.78195489, 0.78195489, 0.7518797 , 0.78195489, 0.76691729,\n",
              "         0.77443609, 0.76691729, 0.78947368, 0.7593985 , 0.77443609]),\n",
              "  'mean_test_score': array([0.80150376, 0.81503759, 0.80902256, 0.80601504, 0.82406015,\n",
              "         0.81503759, 0.8075188 , 0.82406015, 0.81503759, 0.8075188 ,\n",
              "         0.82556391, 0.82255639, 0.79548872, 0.80300752, 0.81052632,\n",
              "         0.82105263, 0.8075188 , 0.81503759, 0.81804511, 0.80601504]),\n",
              "  'std_test_score': array([0.02358554, 0.01994962, 0.01937458, 0.0253418 , 0.0122166 ,\n",
              "         0.01816999, 0.01548215, 0.02715108, 0.02158301, 0.00902256,\n",
              "         0.02664668, 0.02797154, 0.0219981 , 0.01866116, 0.02396598,\n",
              "         0.02621894, 0.02105263, 0.01619598, 0.03633999, 0.0219981 ]),\n",
              "  'rank_test_score': array([19,  7, 12, 16,  3,  7, 13,  2,  7, 13,  1,  4, 20, 18, 11,  5, 13,\n",
              "          7,  6, 16], dtype=int32)},\n",
              " {'max_depth': 70},\n",
              " 0.825563909774436)"
            ]
          },
          "metadata": {},
          "execution_count": 98
        }
      ],
      "source": [
        "train_vecs = feats.fit_transform(train_data)\n",
        "test_vecs = feats.transform(test_data)\n",
        "param_test = {'max_depth':list(range(60,80,1))} #\n",
        "gsearch = GridSearchCV(estimator = DecisionTreeClassifier(),\n",
        "                       param_grid = param_test, refit=False, scoring='recall', cv=5)\n",
        "gsearch.fit(train_vecs, train_label)\n",
        "gsearch.cv_results_, gsearch.best_params_, gsearch.best_score_"
      ]
    },
    {
      "cell_type": "markdown",
      "metadata": {
        "id": "txM1xx_s_ce6"
      },
      "source": [
        "#Logistic Regression"
      ]
    },
    {
      "cell_type": "code",
      "execution_count": null,
      "metadata": {
        "id": "Ub3x9gISAJ1R"
      },
      "outputs": [],
      "source": [
        "from sklearn.linear_model import LogisticRegression"
      ]
    },
    {
      "cell_type": "code",
      "execution_count": null,
      "metadata": {
        "colab": {
          "base_uri": "https://localhost:8080/"
        },
        "id": "2KVatyBP_aIu",
        "outputId": "2b86b07a-f80e-4817-c67d-9ea751c4c94a"
      },
      "outputs": [
        {
          "output_type": "stream",
          "name": "stdout",
          "text": [
            "Confusion Matrix : \n",
            " [[578  87]\n",
            " [200 491]]  \n",
            "\n",
            "              precision    recall  f1-score   support\n",
            "\n",
            "           0       0.74      0.87      0.80       665\n",
            "           1       0.85      0.71      0.77       691\n",
            "\n",
            "    accuracy                           0.79      1356\n",
            "   macro avg       0.80      0.79      0.79      1356\n",
            "weighted avg       0.80      0.79      0.79      1356\n",
            "\n"
          ]
        },
        {
          "output_type": "stream",
          "name": "stderr",
          "text": [
            "/usr/local/lib/python3.7/dist-packages/sklearn/linear_model/_logistic.py:818: ConvergenceWarning: lbfgs failed to converge (status=1):\n",
            "STOP: TOTAL NO. of ITERATIONS REACHED LIMIT.\n",
            "\n",
            "Increase the number of iterations (max_iter) or scale the data as shown in:\n",
            "    https://scikit-learn.org/stable/modules/preprocessing.html\n",
            "Please also refer to the documentation for alternative solver options:\n",
            "    https://scikit-learn.org/stable/modules/linear_model.html#logistic-regression\n",
            "  extra_warning_msg=_LOGISTIC_SOLVER_CONVERGENCE_MSG,\n"
          ]
        },
        {
          "output_type": "execute_result",
          "data": {
            "text/plain": [
              "((50.0, '%'), (78.74732342817448, '%'))"
            ]
          },
          "metadata": {},
          "execution_count": 88
        }
      ],
      "source": [
        "model_lo= LogisticRegression(C=50)\n",
        "classification(feats, model_lo)"
      ]
    },
    {
      "cell_type": "markdown",
      "metadata": {
        "id": "EyYCU31K-YFI"
      },
      "source": [
        "#Random Forest"
      ]
    },
    {
      "cell_type": "code",
      "source": [
        "from sklearn.ensemble import RandomForestClassifier"
      ],
      "metadata": {
        "id": "v9ioTHkKpxgk"
      },
      "execution_count": null,
      "outputs": []
    },
    {
      "cell_type": "code",
      "execution_count": null,
      "metadata": {
        "id": "qvPD4tagdZ0T",
        "colab": {
          "base_uri": "https://localhost:8080/"
        },
        "outputId": "e16e27f5-801c-41e6-e004-ec50d55b8886"
      },
      "outputs": [
        {
          "output_type": "stream",
          "name": "stdout",
          "text": [
            "Confusion Matrix : \n",
            " [[635  30]\n",
            " [201 490]]  \n",
            "\n",
            "              precision    recall  f1-score   support\n",
            "\n",
            "           0       0.76      0.95      0.85       665\n",
            "           1       0.94      0.71      0.81       691\n",
            "\n",
            "    accuracy                           0.83      1356\n",
            "   macro avg       0.85      0.83      0.83      1356\n",
            "weighted avg       0.85      0.83      0.83      1356\n",
            "\n"
          ]
        },
        {
          "output_type": "execute_result",
          "data": {
            "text/plain": [
              "((49.70403002121064, '%'), (82.76755765905581, '%'))"
            ]
          },
          "metadata": {},
          "execution_count": 90
        }
      ],
      "source": [
        "model_rf = RandomForestClassifier(n_estimators=110, max_depth=140, min_samples_split=30)\n",
        "classification(feats, model_rf)"
      ]
    },
    {
      "cell_type": "markdown",
      "metadata": {
        "id": "NiE21TTv-czL"
      },
      "source": [
        "#KNN"
      ]
    },
    {
      "cell_type": "code",
      "source": [
        "from sklearn.neighbors import KNeighborsClassifier"
      ],
      "metadata": {
        "id": "pb8AbnkjbG0c"
      },
      "execution_count": null,
      "outputs": []
    },
    {
      "cell_type": "code",
      "execution_count": null,
      "metadata": {
        "id": "RVAGbZ-A-3BX",
        "colab": {
          "base_uri": "https://localhost:8080/"
        },
        "outputId": "d415cef7-98ea-4070-d0ec-a1b5961d7555"
      },
      "outputs": [
        {
          "output_type": "stream",
          "name": "stdout",
          "text": [
            "Confusion Matrix : \n",
            " [[566  99]\n",
            " [261 430]]  \n",
            "\n",
            "              precision    recall  f1-score   support\n",
            "\n",
            "           0       0.68      0.85      0.76       665\n",
            "           1       0.81      0.62      0.70       691\n",
            "\n",
            "    accuracy                           0.73      1356\n",
            "   macro avg       0.75      0.74      0.73      1356\n",
            "weighted avg       0.75      0.73      0.73      1356\n",
            "\n"
          ]
        },
        {
          "output_type": "execute_result",
          "data": {
            "text/plain": [
              "((47.86157941437445, '%'), (73.18155847580539, '%'))"
            ]
          },
          "metadata": {},
          "execution_count": 93
        }
      ],
      "source": [
        "model_knn= KNeighborsClassifier(n_neighbors=10) \n",
        "classification(feats, model_knn)"
      ]
    },
    {
      "cell_type": "markdown",
      "metadata": {
        "id": "ZyfX78VT-43K"
      },
      "source": [
        "#Decision Tree"
      ]
    },
    {
      "cell_type": "code",
      "source": [
        "from sklearn.tree import DecisionTreeClassifier"
      ],
      "metadata": {
        "id": "NPr3Vh40bS4L"
      },
      "execution_count": null,
      "outputs": []
    },
    {
      "cell_type": "code",
      "execution_count": null,
      "metadata": {
        "id": "OFcC2UqL_DGW",
        "colab": {
          "base_uri": "https://localhost:8080/"
        },
        "outputId": "db59a2d3-9ec2-463f-9214-e6902962672e"
      },
      "outputs": [
        {
          "output_type": "stream",
          "name": "stdout",
          "text": [
            "Confusion Matrix : \n",
            " [[565 100]\n",
            " [144 547]]  \n",
            "\n",
            "              precision    recall  f1-score   support\n",
            "\n",
            "           0       0.80      0.85      0.82       665\n",
            "           1       0.85      0.79      0.82       691\n",
            "\n",
            "    accuracy                           0.82      1356\n",
            "   macro avg       0.82      0.82      0.82      1356\n",
            "weighted avg       0.82      0.82      0.82      1356\n",
            "\n"
          ]
        },
        {
          "output_type": "execute_result",
          "data": {
            "text/plain": [
              "((49.26451486410313, '%'), (82.00272844172035, '%'))"
            ]
          },
          "metadata": {},
          "execution_count": 95
        }
      ],
      "source": [
        "model_dt = DecisionTreeClassifier(min_samples_split=0.4, max_depth=77)\n",
        "classification(feats, model_dt)"
      ]
    },
    {
      "cell_type": "markdown",
      "metadata": {
        "id": "YqY8Lc-I_El7"
      },
      "source": [
        "#SVM"
      ]
    },
    {
      "cell_type": "code",
      "source": [
        "from sklearn.svm import SVC"
      ],
      "metadata": {
        "id": "fKskpsPKb7zi"
      },
      "execution_count": null,
      "outputs": []
    },
    {
      "cell_type": "code",
      "execution_count": null,
      "metadata": {
        "id": "jZlzUr9o_LVA",
        "colab": {
          "base_uri": "https://localhost:8080/"
        },
        "outputId": "7a157e92-8830-4672-8039-d5c2d91b30cf"
      },
      "outputs": [
        {
          "output_type": "stream",
          "name": "stdout",
          "text": [
            "Confusion Matrix : \n",
            " [[578  87]\n",
            " [203 488]]  \n",
            "\n",
            "              precision    recall  f1-score   support\n",
            "\n",
            "           0       0.74      0.87      0.80       665\n",
            "           1       0.85      0.71      0.77       691\n",
            "\n",
            "    accuracy                           0.79      1356\n",
            "   macro avg       0.79      0.79      0.79      1356\n",
            "weighted avg       0.80      0.79      0.78      1356\n",
            "\n"
          ]
        },
        {
          "output_type": "execute_result",
          "data": {
            "text/plain": [
              "((50.0, '%'), (78.51894095822436, '%'))"
            ]
          },
          "metadata": {},
          "execution_count": 97
        }
      ],
      "source": [
        "model_svm = SVC(C = 10000, kernel = 'rbf')\n",
        "classification(feats, model_svm)"
      ]
    }
  ],
  "metadata": {
    "accelerator": "GPU",
    "colab": {
      "provenance": [],
      "authorship_tag": "ABX9TyOcqHItQC2D3CU7maqWSzZP",
      "include_colab_link": true
    },
    "gpuClass": "standard",
    "kernelspec": {
      "display_name": "Python 3",
      "name": "python3"
    },
    "language_info": {
      "name": "python"
    }
  },
  "nbformat": 4,
  "nbformat_minor": 0
}