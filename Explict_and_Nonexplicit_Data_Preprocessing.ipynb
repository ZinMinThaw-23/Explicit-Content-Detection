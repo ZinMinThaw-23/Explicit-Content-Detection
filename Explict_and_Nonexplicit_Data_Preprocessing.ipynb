{
  "nbformat": 4,
  "nbformat_minor": 0,
  "metadata": {
    "colab": {
      "provenance": [],
      "authorship_tag": "ABX9TyOFFgYvQBGhqyQXUilFmg3T",
      "include_colab_link": true
    },
    "kernelspec": {
      "name": "python3",
      "display_name": "Python 3"
    },
    "language_info": {
      "name": "python"
    },
    "accelerator": "GPU",
    "gpuClass": "standard"
  },
  "cells": [
    {
      "cell_type": "markdown",
      "metadata": {
        "id": "view-in-github",
        "colab_type": "text"
      },
      "source": [
        "<a href=\"https://colab.research.google.com/github/ZinMinThaw-23/Explicit-Content-Detection/blob/main/Explict_and_Nonexplicit_Data_Preprocessing.ipynb\" target=\"_parent\"><img src=\"https://colab.research.google.com/assets/colab-badge.svg\" alt=\"Open In Colab\"/></a>"
      ]
    },
    {
      "cell_type": "code",
      "source": [
        "!pip install Spotipy"
      ],
      "metadata": {
        "id": "sIGL-BF_QlMG",
        "outputId": "8a298085-0640-47a3-aa79-36fb14728f02",
        "colab": {
          "base_uri": "https://localhost:8080/"
        }
      },
      "execution_count": 1,
      "outputs": [
        {
          "output_type": "stream",
          "name": "stdout",
          "text": [
            "Looking in indexes: https://pypi.org/simple, https://us-python.pkg.dev/colab-wheels/public/simple/\n",
            "Collecting Spotipy\n",
            "  Downloading spotipy-2.21.0-py3-none-any.whl (28 kB)\n",
            "Requirement already satisfied: six>=1.15.0 in /usr/local/lib/python3.7/dist-packages (from Spotipy) (1.15.0)\n",
            "Collecting requests>=2.25.0\n",
            "  Downloading requests-2.28.1-py3-none-any.whl (62 kB)\n",
            "\u001b[K     |████████████████████████████████| 62 kB 694 kB/s \n",
            "\u001b[?25hCollecting redis>=3.5.3\n",
            "  Downloading redis-4.3.4-py3-none-any.whl (246 kB)\n",
            "\u001b[K     |████████████████████████████████| 246 kB 62.4 MB/s \n",
            "\u001b[?25hCollecting urllib3>=1.26.0\n",
            "  Downloading urllib3-1.26.12-py2.py3-none-any.whl (140 kB)\n",
            "\u001b[K     |████████████████████████████████| 140 kB 65.6 MB/s \n",
            "\u001b[?25hRequirement already satisfied: async-timeout>=4.0.2 in /usr/local/lib/python3.7/dist-packages (from redis>=3.5.3->Spotipy) (4.0.2)\n",
            "Requirement already satisfied: importlib-metadata>=1.0 in /usr/local/lib/python3.7/dist-packages (from redis>=3.5.3->Spotipy) (4.13.0)\n",
            "Requirement already satisfied: typing-extensions in /usr/local/lib/python3.7/dist-packages (from redis>=3.5.3->Spotipy) (4.1.1)\n",
            "Collecting deprecated>=1.2.3\n",
            "  Downloading Deprecated-1.2.13-py2.py3-none-any.whl (9.6 kB)\n",
            "Requirement already satisfied: packaging>=20.4 in /usr/local/lib/python3.7/dist-packages (from redis>=3.5.3->Spotipy) (21.3)\n",
            "Requirement already satisfied: wrapt<2,>=1.10 in /usr/local/lib/python3.7/dist-packages (from deprecated>=1.2.3->redis>=3.5.3->Spotipy) (1.14.1)\n",
            "Requirement already satisfied: zipp>=0.5 in /usr/local/lib/python3.7/dist-packages (from importlib-metadata>=1.0->redis>=3.5.3->Spotipy) (3.10.0)\n",
            "Requirement already satisfied: pyparsing!=3.0.5,>=2.0.2 in /usr/local/lib/python3.7/dist-packages (from packaging>=20.4->redis>=3.5.3->Spotipy) (3.0.9)\n",
            "Requirement already satisfied: certifi>=2017.4.17 in /usr/local/lib/python3.7/dist-packages (from requests>=2.25.0->Spotipy) (2022.9.24)\n",
            "Requirement already satisfied: charset-normalizer<3,>=2 in /usr/local/lib/python3.7/dist-packages (from requests>=2.25.0->Spotipy) (2.1.1)\n",
            "Requirement already satisfied: idna<4,>=2.5 in /usr/local/lib/python3.7/dist-packages (from requests>=2.25.0->Spotipy) (2.10)\n",
            "Installing collected packages: urllib3, deprecated, requests, redis, Spotipy\n",
            "  Attempting uninstall: urllib3\n",
            "    Found existing installation: urllib3 1.24.3\n",
            "    Uninstalling urllib3-1.24.3:\n",
            "      Successfully uninstalled urllib3-1.24.3\n",
            "  Attempting uninstall: requests\n",
            "    Found existing installation: requests 2.23.0\n",
            "    Uninstalling requests-2.23.0:\n",
            "      Successfully uninstalled requests-2.23.0\n",
            "Successfully installed Spotipy-2.21.0 deprecated-1.2.13 redis-4.3.4 requests-2.28.1 urllib3-1.26.12\n"
          ]
        }
      ]
    },
    {
      "cell_type": "code",
      "source": [
        "%tensorflow_version 2.x\n",
        "import tensorflow as tf             #tf library for deep learning\n",
        "device_name = tf.test.gpu_device_name()\n",
        "if device_name != '/device:GPU:0':\n",
        "  raise SystemError('GPU device not found')\n",
        "print('Found GPU at: {}'.format(device_name))\n",
        "%time"
      ],
      "metadata": {
        "colab": {
          "base_uri": "https://localhost:8080/"
        },
        "id": "CvBEdm0taFB4",
        "outputId": "f34e2c6c-9640-49ce-d50d-4ed264234efd"
      },
      "execution_count": 2,
      "outputs": [
        {
          "output_type": "stream",
          "name": "stdout",
          "text": [
            "Colab only includes TensorFlow 2.x; %tensorflow_version has no effect.\n",
            "Found GPU at: /device:GPU:0\n",
            "CPU times: user 2 µs, sys: 1 µs, total: 3 µs\n",
            "Wall time: 5.72 µs\n"
          ]
        }
      ]
    },
    {
      "cell_type": "code",
      "source": [
        "import pandas as pd\n",
        "import spotipy\n",
        "from spotipy.oauth2 import SpotifyClientCredentials\n"
      ],
      "metadata": {
        "id": "CAi-0KoMUPtH"
      },
      "execution_count": 3,
      "outputs": []
    },
    {
      "cell_type": "code",
      "source": [
        "sp = spotipy.Spotify(client_credentials_manager=SpotifyClientCredentials(client_id='4f46126afd904b33b80dde84014831c5',client_secret='5b92387a509c4658b7309ea0ed97315b'))"
      ],
      "metadata": {
        "id": "F-ec5JhJQxQI"
      },
      "execution_count": 4,
      "outputs": []
    },
    {
      "cell_type": "code",
      "source": [
        "from google.colab import drive\n",
        "drive.mount('/content/drive')"
      ],
      "metadata": {
        "colab": {
          "base_uri": "https://localhost:8080/"
        },
        "id": "C4ahlzjua3aD",
        "outputId": "de8588a6-5c5f-4782-d9e6-e86eef3f1110"
      },
      "execution_count": 5,
      "outputs": [
        {
          "output_type": "stream",
          "name": "stdout",
          "text": [
            "Mounted at /content/drive\n"
          ]
        }
      ]
    },
    {
      "cell_type": "code",
      "source": [
        "song_data = pd.read_csv(\"/content/drive/MyDrive/Explicit Content Analysis/songdata1.csv\")\n",
        "song_data"
      ],
      "metadata": {
        "id": "-VFWaHcdYyQy",
        "colab": {
          "base_uri": "https://localhost:8080/",
          "height": 424
        },
        "outputId": "8846854f-391f-4d3b-c7fe-67e0c3351000"
      },
      "execution_count": 6,
      "outputs": [
        {
          "output_type": "execute_result",
          "data": {
            "text/plain": [
              "         artist           song                                       link  \\\n",
              "0         Adele      All I Ask           /a/adele/all+i+ask_21105101.html   \n",
              "1         Adele   Can't Let Go         /a/adele/cant+let+go_21105103.html   \n",
              "2         Adele  Crazy For You       /a/adele/crazy+for+you_20830095.html   \n",
              "3         Adele     Daydreamer          /a/adele/daydreamer_20730061.html   \n",
              "4         Adele          Hello               /a/adele/hello_21103519.html   \n",
              "..          ...            ...                                        ...   \n",
              "894  The Weeknd    The Knowing    /t/the+weeknd/the+knowing_20989834.html   \n",
              "895  The Weeknd       Thursday       /t/the+weeknd/thursday_20981316.html   \n",
              "896  The Weeknd        Valerie        /t/the+weeknd/valerie_21049434.html   \n",
              "897  The Weeknd  What You Need  /t/the+weeknd/what+you+need_20908056.html   \n",
              "898  The Weeknd   Wicked Games   /t/the+weeknd/wicked+games_20975455.html   \n",
              "\n",
              "                                                  text  \n",
              "0    [Verse 1]  \\nI will leave my heart at the door...  \n",
              "1    [Verse 1]  \\nWhen did it go wrong, I will neve...  \n",
              "2    Found myself today singing out your name,  \\nY...  \n",
              "3    Daydreamer  \\nSitting on the sea  \\nSoaking up...  \n",
              "4    [Verse 1]  \\nHello, it's me  \\nI was wondering...  \n",
              "..                                                 ...  \n",
              "894  I know what you did  \\nI know  \\nSo I'ma let y...  \n",
              "895  I love her, today  \\n'Cause it's Wednesday, I ...  \n",
              "896  There comes a time in a man's life  \\nHe must ...  \n",
              "897  I just wanna take you there  \\nHe don't got to...  \n",
              "898  I left my girl back home  \\nI don't love her n...  \n",
              "\n",
              "[899 rows x 4 columns]"
            ],
            "text/html": [
              "\n",
              "  <div id=\"df-a7a0892f-3b1f-4b5a-8537-84965feb6173\">\n",
              "    <div class=\"colab-df-container\">\n",
              "      <div>\n",
              "<style scoped>\n",
              "    .dataframe tbody tr th:only-of-type {\n",
              "        vertical-align: middle;\n",
              "    }\n",
              "\n",
              "    .dataframe tbody tr th {\n",
              "        vertical-align: top;\n",
              "    }\n",
              "\n",
              "    .dataframe thead th {\n",
              "        text-align: right;\n",
              "    }\n",
              "</style>\n",
              "<table border=\"1\" class=\"dataframe\">\n",
              "  <thead>\n",
              "    <tr style=\"text-align: right;\">\n",
              "      <th></th>\n",
              "      <th>artist</th>\n",
              "      <th>song</th>\n",
              "      <th>link</th>\n",
              "      <th>text</th>\n",
              "    </tr>\n",
              "  </thead>\n",
              "  <tbody>\n",
              "    <tr>\n",
              "      <th>0</th>\n",
              "      <td>Adele</td>\n",
              "      <td>All I Ask</td>\n",
              "      <td>/a/adele/all+i+ask_21105101.html</td>\n",
              "      <td>[Verse 1]  \\nI will leave my heart at the door...</td>\n",
              "    </tr>\n",
              "    <tr>\n",
              "      <th>1</th>\n",
              "      <td>Adele</td>\n",
              "      <td>Can't Let Go</td>\n",
              "      <td>/a/adele/cant+let+go_21105103.html</td>\n",
              "      <td>[Verse 1]  \\nWhen did it go wrong, I will neve...</td>\n",
              "    </tr>\n",
              "    <tr>\n",
              "      <th>2</th>\n",
              "      <td>Adele</td>\n",
              "      <td>Crazy For You</td>\n",
              "      <td>/a/adele/crazy+for+you_20830095.html</td>\n",
              "      <td>Found myself today singing out your name,  \\nY...</td>\n",
              "    </tr>\n",
              "    <tr>\n",
              "      <th>3</th>\n",
              "      <td>Adele</td>\n",
              "      <td>Daydreamer</td>\n",
              "      <td>/a/adele/daydreamer_20730061.html</td>\n",
              "      <td>Daydreamer  \\nSitting on the sea  \\nSoaking up...</td>\n",
              "    </tr>\n",
              "    <tr>\n",
              "      <th>4</th>\n",
              "      <td>Adele</td>\n",
              "      <td>Hello</td>\n",
              "      <td>/a/adele/hello_21103519.html</td>\n",
              "      <td>[Verse 1]  \\nHello, it's me  \\nI was wondering...</td>\n",
              "    </tr>\n",
              "    <tr>\n",
              "      <th>...</th>\n",
              "      <td>...</td>\n",
              "      <td>...</td>\n",
              "      <td>...</td>\n",
              "      <td>...</td>\n",
              "    </tr>\n",
              "    <tr>\n",
              "      <th>894</th>\n",
              "      <td>The Weeknd</td>\n",
              "      <td>The Knowing</td>\n",
              "      <td>/t/the+weeknd/the+knowing_20989834.html</td>\n",
              "      <td>I know what you did  \\nI know  \\nSo I'ma let y...</td>\n",
              "    </tr>\n",
              "    <tr>\n",
              "      <th>895</th>\n",
              "      <td>The Weeknd</td>\n",
              "      <td>Thursday</td>\n",
              "      <td>/t/the+weeknd/thursday_20981316.html</td>\n",
              "      <td>I love her, today  \\n'Cause it's Wednesday, I ...</td>\n",
              "    </tr>\n",
              "    <tr>\n",
              "      <th>896</th>\n",
              "      <td>The Weeknd</td>\n",
              "      <td>Valerie</td>\n",
              "      <td>/t/the+weeknd/valerie_21049434.html</td>\n",
              "      <td>There comes a time in a man's life  \\nHe must ...</td>\n",
              "    </tr>\n",
              "    <tr>\n",
              "      <th>897</th>\n",
              "      <td>The Weeknd</td>\n",
              "      <td>What You Need</td>\n",
              "      <td>/t/the+weeknd/what+you+need_20908056.html</td>\n",
              "      <td>I just wanna take you there  \\nHe don't got to...</td>\n",
              "    </tr>\n",
              "    <tr>\n",
              "      <th>898</th>\n",
              "      <td>The Weeknd</td>\n",
              "      <td>Wicked Games</td>\n",
              "      <td>/t/the+weeknd/wicked+games_20975455.html</td>\n",
              "      <td>I left my girl back home  \\nI don't love her n...</td>\n",
              "    </tr>\n",
              "  </tbody>\n",
              "</table>\n",
              "<p>899 rows × 4 columns</p>\n",
              "</div>\n",
              "      <button class=\"colab-df-convert\" onclick=\"convertToInteractive('df-a7a0892f-3b1f-4b5a-8537-84965feb6173')\"\n",
              "              title=\"Convert this dataframe to an interactive table.\"\n",
              "              style=\"display:none;\">\n",
              "        \n",
              "  <svg xmlns=\"http://www.w3.org/2000/svg\" height=\"24px\"viewBox=\"0 0 24 24\"\n",
              "       width=\"24px\">\n",
              "    <path d=\"M0 0h24v24H0V0z\" fill=\"none\"/>\n",
              "    <path d=\"M18.56 5.44l.94 2.06.94-2.06 2.06-.94-2.06-.94-.94-2.06-.94 2.06-2.06.94zm-11 1L8.5 8.5l.94-2.06 2.06-.94-2.06-.94L8.5 2.5l-.94 2.06-2.06.94zm10 10l.94 2.06.94-2.06 2.06-.94-2.06-.94-.94-2.06-.94 2.06-2.06.94z\"/><path d=\"M17.41 7.96l-1.37-1.37c-.4-.4-.92-.59-1.43-.59-.52 0-1.04.2-1.43.59L10.3 9.45l-7.72 7.72c-.78.78-.78 2.05 0 2.83L4 21.41c.39.39.9.59 1.41.59.51 0 1.02-.2 1.41-.59l7.78-7.78 2.81-2.81c.8-.78.8-2.07 0-2.86zM5.41 20L4 18.59l7.72-7.72 1.47 1.35L5.41 20z\"/>\n",
              "  </svg>\n",
              "      </button>\n",
              "      \n",
              "  <style>\n",
              "    .colab-df-container {\n",
              "      display:flex;\n",
              "      flex-wrap:wrap;\n",
              "      gap: 12px;\n",
              "    }\n",
              "\n",
              "    .colab-df-convert {\n",
              "      background-color: #E8F0FE;\n",
              "      border: none;\n",
              "      border-radius: 50%;\n",
              "      cursor: pointer;\n",
              "      display: none;\n",
              "      fill: #1967D2;\n",
              "      height: 32px;\n",
              "      padding: 0 0 0 0;\n",
              "      width: 32px;\n",
              "    }\n",
              "\n",
              "    .colab-df-convert:hover {\n",
              "      background-color: #E2EBFA;\n",
              "      box-shadow: 0px 1px 2px rgba(60, 64, 67, 0.3), 0px 1px 3px 1px rgba(60, 64, 67, 0.15);\n",
              "      fill: #174EA6;\n",
              "    }\n",
              "\n",
              "    [theme=dark] .colab-df-convert {\n",
              "      background-color: #3B4455;\n",
              "      fill: #D2E3FC;\n",
              "    }\n",
              "\n",
              "    [theme=dark] .colab-df-convert:hover {\n",
              "      background-color: #434B5C;\n",
              "      box-shadow: 0px 1px 3px 1px rgba(0, 0, 0, 0.15);\n",
              "      filter: drop-shadow(0px 1px 2px rgba(0, 0, 0, 0.3));\n",
              "      fill: #FFFFFF;\n",
              "    }\n",
              "  </style>\n",
              "\n",
              "      <script>\n",
              "        const buttonEl =\n",
              "          document.querySelector('#df-a7a0892f-3b1f-4b5a-8537-84965feb6173 button.colab-df-convert');\n",
              "        buttonEl.style.display =\n",
              "          google.colab.kernel.accessAllowed ? 'block' : 'none';\n",
              "\n",
              "        async function convertToInteractive(key) {\n",
              "          const element = document.querySelector('#df-a7a0892f-3b1f-4b5a-8537-84965feb6173');\n",
              "          const dataTable =\n",
              "            await google.colab.kernel.invokeFunction('convertToInteractive',\n",
              "                                                     [key], {});\n",
              "          if (!dataTable) return;\n",
              "\n",
              "          const docLinkHtml = 'Like what you see? Visit the ' +\n",
              "            '<a target=\"_blank\" href=https://colab.research.google.com/notebooks/data_table.ipynb>data table notebook</a>'\n",
              "            + ' to learn more about interactive tables.';\n",
              "          element.innerHTML = '';\n",
              "          dataTable['output_type'] = 'display_data';\n",
              "          await google.colab.output.renderOutput(dataTable, element);\n",
              "          const docLink = document.createElement('div');\n",
              "          docLink.innerHTML = docLinkHtml;\n",
              "          element.appendChild(docLink);\n",
              "        }\n",
              "      </script>\n",
              "    </div>\n",
              "  </div>\n",
              "  "
            ]
          },
          "metadata": {},
          "execution_count": 6
        }
      ]
    },
    {
      "cell_type": "code",
      "source": [
        "for i in song_data.columns:\n",
        "  print(i)\n",
        "  print(song_data[i].isnull().unique())\n",
        "  print()"
      ],
      "metadata": {
        "colab": {
          "base_uri": "https://localhost:8080/"
        },
        "id": "O7z9InGOciS2",
        "outputId": "e9772865-162f-43ae-865f-976653c82d57"
      },
      "execution_count": 7,
      "outputs": [
        {
          "output_type": "stream",
          "name": "stdout",
          "text": [
            "artist\n",
            "[False]\n",
            "\n",
            "song\n",
            "[False]\n",
            "\n",
            "link\n",
            "[False]\n",
            "\n",
            "text\n",
            "[False]\n",
            "\n"
          ]
        }
      ]
    },
    {
      "cell_type": "code",
      "source": [
        "def get_explicit_label(artist, song):\n",
        "    label = ''\n",
        "    results = sp.search(q=song, type='track', limit=5)\n",
        "    if len(results['tracks']['items'])>0:\n",
        "        #print(1)\n",
        "        for t in results['tracks']['items']:\n",
        "            if t['artists'][0]['name'] == artist:\n",
        "                #print(2)\n",
        "                label = t['explicit']\n",
        "                break\n",
        "            else:\n",
        "                #print(3)\n",
        "                label = 'no match'\n",
        "    else:\n",
        "        #print(4)\n",
        "        label = 'no match'\n",
        "    print(label,\"1\")\n",
        "    return label"
      ],
      "metadata": {
        "id": "eeLEKU-PcllE"
      },
      "execution_count": 11,
      "outputs": []
    },
    {
      "cell_type": "code",
      "source": [],
      "metadata": {
        "id": "jSB49258YGpZ"
      },
      "execution_count": null,
      "outputs": []
    },
    {
      "cell_type": "code",
      "source": [
        "label1 = []\n",
        "for i in range(0,len(song_data)):\n",
        "    label1.append(get_explicit_label(song_data['artist'][i], song_data['song'][i]))"
      ],
      "metadata": {
        "id": "LpSZI9XSYHGV"
      },
      "execution_count": null,
      "outputs": []
    },
    {
      "cell_type": "code",
      "source": [
        "explicit_label = pd.DataFrame(label, columns=['explicit_label'])"
      ],
      "metadata": {
        "id": "2MjXpt4M8jR_"
      },
      "execution_count": null,
      "outputs": []
    },
    {
      "cell_type": "code",
      "source": [
        "processed_song_data = pd.concat([song_data, explicit_label], axis=1)\n",
        "processed_song_data"
      ],
      "metadata": {
        "id": "JuckG9XkBPW6"
      },
      "execution_count": null,
      "outputs": []
    },
    {
      "cell_type": "code",
      "source": [
        "processed_song_data.to_csv(\"/content/drive/MyDrive/Explicit Content Analysis/processedsongdata_57650.csv\", header=True)"
      ],
      "metadata": {
        "id": "f3PMqYayBvBc"
      },
      "execution_count": null,
      "outputs": []
    }
  ]
}